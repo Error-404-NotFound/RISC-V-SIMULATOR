{
 "cells": [
  {
   "cell_type": "code",
   "execution_count": 2,
   "metadata": {},
   "outputs": [],
   "source": [
    "mutable struct CacheBlock\n",
    "    block_size::Int64\n",
    "    tag::String\n",
    "    isValid::Bool\n",
    "    isDirty::Bool\n",
    "    block::Array{String, 1}\n",
    "    recent_access::Int64\n",
    "    function CacheBlock(block_size::Int64)\n",
    "        this = new()\n",
    "        this.tag = \"\"\n",
    "        this.isValid = false\n",
    "        this.isDirty = false\n",
    "        this.block = fill(\"\", block_size+1)\n",
    "        this.recent_access = 0\n",
    "        return this\n",
    "    end\n",
    "end\n",
    "\n",
    "function CacheBlock_Init(block_size::Int64)\n",
    "    return CacheBlock(block_size)\n",
    "end\n",
    "\n",
    "mutable struct CacheSet\n",
    "    associativity::Int64\n",
    "    cache_set::Array{CacheBlock,1}\n",
    "    function CacheSet(associativity::Int64, block_size::Int64)\n",
    "        this = new()\n",
    "        this.associativity = associativity\n",
    "        this.cache_set = [CacheBlock_Init(block_size) for _ in 1:associativity]\n",
    "        return this\n",
    "    end\n",
    "end\n",
    "\n",
    "function CacheSet_Init(associativity::Int64, block_size::Int64)\n",
    "    return CacheSet(associativity, block_size)\n",
    "end\n",
    "\n",
    "mutable struct Cache\n",
    "    cache_size::Int64\n",
    "    block_size::Int64\n",
    "    associativity::Int64\n",
    "    memory::Array{CacheSet, 1}\n",
    "    number_of_blocks::Int64\n",
    "    number_of_sets::Int64\n",
    "    offset_bits::String\n",
    "    index_bits::String\n",
    "    tag_bits::String\n",
    "    offset_bits_length::Int64\n",
    "    index_bits_length::Int64\n",
    "    tag_bits_length::Int64\n",
    "    function Cache()\n",
    "        this = new()\n",
    "        this.cache_size = 16\n",
    "        this.block_size = 4\n",
    "        this.associativity = 4\n",
    "        this.number_of_blocks = this.cache_size / this.block_size\n",
    "        this.number_of_sets = this.number_of_blocks / this.associativity\n",
    "        this.memory = [CacheSet_Init(this.associativity, this.block_size) for _ in 1:this.number_of_sets]\n",
    "        this.offset_bits = \"\"\n",
    "        this.index_bits = \"\"\n",
    "        this.tag_bits = \"\"\n",
    "        this.offset_bits_length = 0\n",
    "        this.index_bits_length = 0\n",
    "        this.tag_bits_length = 0\n",
    "        return this\n",
    "    end\n",
    "end"
   ]
  },
  {
   "cell_type": "code",
   "execution_count": 3,
   "metadata": {},
   "outputs": [
    {
     "data": {
      "text/plain": [
       "Cache_Init (generic function with 1 method)"
      ]
     },
     "metadata": {},
     "output_type": "display_data"
    }
   ],
   "source": [
    "function Cache_Init()\n",
    "    return Cache()\n",
    "end"
   ]
  },
  {
   "cell_type": "code",
   "execution_count": 9,
   "metadata": {},
   "outputs": [
    {
     "name": "stdout",
     "output_type": "stream",
     "text": [
      "4\n",
      "1\n",
      "4\n",
      "140181848141232\n",
      "[\"\", \"\", \"\", \"\", \"\"]\n",
      "\n",
      "false\n",
      "false\n",
      "0\n",
      "\n",
      "\n",
      "\n",
      "0\n",
      "0\n",
      "0\n",
      "4\n",
      "4\n",
      "16\n",
      "4\n",
      "140181848141232\n",
      "140181970407224\n"
     ]
    }
   ],
   "source": [
    "cache = Cache_Init()\n",
    "cache_block = CacheBlock_Init(4)\n",
    "println(cache.number_of_blocks)\n",
    "println(cache.number_of_sets)\n",
    "println(cache.memory[1].associativity)\n",
    "println(cache.memory[1].cache_set[1].block_size)\n",
    "println(cache.memory[1].cache_set[1].block)\n",
    "println(cache.memory[1].cache_set[1].tag)\n",
    "println(cache.memory[1].cache_set[1].isValid)\n",
    "println(cache.memory[1].cache_set[1].isDirty)\n",
    "println(cache.memory[1].cache_set[1].recent_access)\n",
    "println(cache.offset_bits)\n",
    "println(cache.index_bits)\n",
    "println(cache.tag_bits)\n",
    "println(cache.offset_bits_length)\n",
    "println(cache.index_bits_length)\n",
    "println(cache.tag_bits_length)\n",
    "println(cache.block_size)\n",
    "println(cache.associativity)\n",
    "println(cache.cache_size)\n",
    "println(cache.memory[1].associativity)\n",
    "println(cache.memory[1].cache_set[1].block_size)\n",
    "println(cache_block.block_size)"
   ]
  },
  {
   "cell_type": "code",
   "execution_count": null,
   "metadata": {},
   "outputs": [],
   "source": []
  }
 ],
 "metadata": {
  "kernelspec": {
   "display_name": "Julia 1.10.2",
   "language": "julia",
   "name": "julia-1.10"
  },
  "language_info": {
   "file_extension": ".jl",
   "mimetype": "application/julia",
   "name": "julia",
   "version": "1.10.2"
  }
 },
 "nbformat": 4,
 "nbformat_minor": 2
}
