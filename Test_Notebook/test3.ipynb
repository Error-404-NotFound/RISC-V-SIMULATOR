{
 "cells": [
  {
   "cell_type": "code",
   "execution_count": 45,
   "id": "d4280e6a-6cf3-4e4e-b471-e92538effc48",
   "metadata": {
    "tags": []
   },
   "outputs": [
    {
     "data": {
      "text/plain": [
       "Dict{String, String} with 32 entries:\n",
       "  \"s8\"   => \"x24\"\n",
       "  \"t0\"   => \"x5\"\n",
       "  \"zero\" => \"x0\"\n",
       "  \"gp\"   => \"x3\"\n",
       "  \"s5\"   => \"x21\"\n",
       "  \"s7\"   => \"x23\"\n",
       "  \"a2\"   => \"x12\"\n",
       "  \"a1\"   => \"x11\"\n",
       "  \"t3\"   => \"x28\"\n",
       "  \"s9\"   => \"x25\"\n",
       "  \"s10\"  => \"x26\"\n",
       "  \"a7\"   => \"x17\"\n",
       "  \"s6\"   => \"x22\"\n",
       "  \"t5\"   => \"x30\"\n",
       "  \"s11\"  => \"x27\"\n",
       "  \"a5\"   => \"x15\"\n",
       "  \"ra\"   => \"x1\"\n",
       "  \"s3\"   => \"x19\"\n",
       "  \"t4\"   => \"x29\"\n",
       "  ⋮      => ⋮"
      ]
     },
     "metadata": {},
     "output_type": "display_data"
    }
   ],
   "source": [
    "alias = Dict(\n",
    "    \"zero\" => \"x0\",\n",
    "    \"ra\" => \"x1\",\n",
    "    \"sp\" => \"x2\",\n",
    "    \"gp\" => \"x3\",\n",
    "    \"tp\" => \"x4\",\n",
    "    \"t0\" => \"x5\",\n",
    "    \"t1\" => \"x6\",\n",
    "    \"t2\" => \"x7\",\n",
    "    \"s0\" => \"x8\",\n",
    "    \"s1\" => \"x9\",\n",
    "    \"a0\" => \"x10\",\n",
    "    \"a1\" => \"x11\",\n",
    "    \"a2\" => \"x12\",\n",
    "    \"a3\" => \"x13\",\n",
    "    \"a4\" => \"x14\",\n",
    "    \"a5\" => \"x15\",\n",
    "    \"a6\" => \"x16\",\n",
    "    \"a7\" => \"x17\",\n",
    "    \"s2\" => \"x18\",\n",
    "    \"s3\" => \"x19\",\n",
    "    \"s4\" => \"x20\",\n",
    "    \"s5\" => \"x21\",\n",
    "    \"s6\" => \"x22\",\n",
    "    \"s7\" => \"x23\",\n",
    "    \"s8\" => \"x24\",\n",
    "    \"s9\" => \"x25\",\n",
    "    \"s10\" => \"x26\",\n",
    "    \"s11\" => \"x27\",\n",
    "    \"t3\" => \"x28\",\n",
    "    \"t4\" => \"x29\",\n",
    "    \"t5\" => \"x30\",\n",
    "    \"t6\" => \"x31\",\n",
    ")"
   ]
  },
  {
   "cell_type": "code",
   "execution_count": 46,
   "id": "cdb17bce-9cd8-403b-992c-eb8504e52e07",
   "metadata": {
    "tags": []
   },
   "outputs": [
    {
     "data": {
      "text/plain": [
       "replace_registers (generic function with 1 method)"
      ]
     },
     "metadata": {},
     "output_type": "display_data"
    }
   ],
   "source": [
    "#function to replace the register names with their respective values in the instruction\n",
    "function replace_registers(instruction)\n",
    "    for (key, value) in alias\n",
    "        instruction = replace(instruction, key => value)\n",
    "    end\n",
    "    return instruction\n",
    "end"
   ]
  },
  {
   "cell_type": "code",
   "execution_count": 50,
   "id": "04ebc2a9-6879-4492-84b8-ff2c2bdf61f5",
   "metadata": {
    "tags": []
   },
   "outputs": [
    {
     "data": {
      "text/plain": [
       "\"li x11 0 x11\""
      ]
     },
     "metadata": {},
     "output_type": "display_data"
    }
   ],
   "source": [
    "replace_registers(\"li a1 0 a1\")"
   ]
  },
  {
   "cell_type": "code",
   "execution_count": 52,
   "id": "3e1eb394-0a97-4121-b87a-2632e849fec6",
   "metadata": {
    "tags": []
   },
   "outputs": [
    {
     "data": {
      "text/plain": [
       "\"bubblesort: -1\""
      ]
     },
     "metadata": {},
     "output_type": "display_data"
    }
   ],
   "source": [
    "replace_registers(\"bubblesort: -1\")"
   ]
  },
  {
   "cell_type": "code",
   "execution_count": 66,
   "id": "f68abcb0",
   "metadata": {},
   "outputs": [
    {
     "data": {
      "text/plain": [
       "remove_empty_strings (generic function with 2 methods)"
      ]
     },
     "metadata": {},
     "output_type": "display_data"
    }
   ],
   "source": [
    "function remove_commas(input_string::AbstractString)::AbstractString\n",
    "    return replace(input_string, \",\" => \" \")\n",
    "end\n",
    "\n",
    "function remove_comments(input_string::AbstractString)::AbstractString\n",
    "    return replace(input_string, r\"#.*\" => \"\")\n",
    "end\n",
    "\n",
    "function remove_parentheses(input_string::AbstractString)::AbstractString\n",
    "    return replace(input_string, r\"[()]\" => \" \")\n",
    "end\n",
    "\n",
    "function add_spaces(input_string::AbstractString)::AbstractString\n",
    "    return replace(input_string, r\"(\\w)([x\\d])\" => s\"\\1 \\2\")\n",
    "end\n",
    "\n",
    "function remove_quotes_from_string(input_string::AbstractString)::AbstractString\n",
    "    return replace(input_string, r\"\\\"\" => \"\")\n",
    "end\n",
    "\n",
    "\n",
    "function remove_colon(input_string::AbstractString)::AbstractString\n",
    "    return replace(input_string, r\":\" => \"\")\n",
    "end\n",
    "\n",
    "function remove_empty_strings(strings::Vector{Any})\n",
    "    return filter(x -> !isempty(x), strings)\n",
    "end\n",
    "\n",
    "function remove_empty_strings()\n",
    "    \n",
    "end"
   ]
  },
  {
   "cell_type": "code",
   "execution_count": 67,
   "id": "8728dd72-4e12-449a-ba49-a8e015ee3774",
   "metadata": {},
   "outputs": [
    {
     "data": {
      "text/plain": [
       "sanitize (generic function with 1 method)"
      ]
     },
     "metadata": {},
     "output_type": "display_data"
    }
   ],
   "source": [
    "function sanitize(raw_line::AbstractString)::AbstractString\n",
    "    modified_line = replace(raw_line, r\"\\b\\d+\\b\" => x -> string(parse(Int, x)))\n",
    "    modified_line = remove_parentheses(modified_line)\n",
    "    modified_line = remove_comments(modified_line)\n",
    "    modified_line = remove_commas(modified_line)\n",
    "    modified_line = remove_quotes_from_string(modified_line)\n",
    "    modified_line = remove_colon(modified_line)\n",
    "    modified_line = strip(modified_line)\n",
    "    return modified_line\n",
    "end"
   ]
  },
  {
   "cell_type": "code",
   "execution_count": 75,
   "id": "e742f005",
   "metadata": {},
   "outputs": [
    {
     "data": {
      "text/plain": [
       "\"li a0  0\""
      ]
     },
     "metadata": {},
     "output_type": "display_data"
    }
   ],
   "source": [
    "x=sanitize(\"li a0, 0\")"
   ]
  },
  {
   "cell_type": "code",
   "execution_count": 76,
   "id": "f6c03a28",
   "metadata": {},
   "outputs": [
    {
     "data": {
      "text/plain": [
       "4-element Vector{SubString{String}}:\n",
       " \"li\"\n",
       " \"a0\"\n",
       " \"\"\n",
       " \"0\""
      ]
     },
     "metadata": {},
     "output_type": "display_data"
    }
   ],
   "source": [
    "parts = split(x, \" \")"
   ]
  },
  {
   "cell_type": "code",
   "execution_count": 77,
   "id": "8d9de0eb",
   "metadata": {},
   "outputs": [
    {
     "data": {
      "text/plain": [
       "remove_empty_strings (generic function with 3 methods)"
      ]
     },
     "metadata": {},
     "output_type": "display_data"
    }
   ],
   "source": [
    "#function to remove the empty strings from the parts\n",
    "function remove_empty_strings(parts)\n",
    "    return filter(x -> !isempty(x), parts)\n",
    "end"
   ]
  },
  {
   "cell_type": "code",
   "execution_count": 78,
   "id": "494a37f3",
   "metadata": {},
   "outputs": [
    {
     "data": {
      "text/plain": [
       "3-element Vector{SubString{String}}:\n",
       " \"li\"\n",
       " \"a0\"\n",
       " \"0\""
      ]
     },
     "metadata": {},
     "output_type": "display_data"
    }
   ],
   "source": [
    "x=remove_empty_strings(parts)"
   ]
  },
  {
   "cell_type": "code",
   "execution_count": 4,
   "id": "91b1e57b",
   "metadata": {},
   "outputs": [
    {
     "data": {
      "text/plain": [
       "binary_to_int_modified (generic function with 1 method)"
      ]
     },
     "execution_count": 4,
     "metadata": {},
     "output_type": "execute_result"
    }
   ],
   "source": [
    "function binary_to_int_modified(binary::AbstractString)::Int\n",
    "    if binary[1] == '0'\n",
    "        return parse(Int, binary, base=2)\n",
    "    else\n",
    "        # For negative numbers, compute the two's complement\n",
    "        positive_num = 2^length(binary) - parse(Int, binary, base=2)\n",
    "        return -positive_num\n",
    "    end\n",
    "end"
   ]
  },
  {
   "cell_type": "code",
   "execution_count": 15,
   "id": "60c726f7",
   "metadata": {},
   "outputs": [
    {
     "data": {
      "text/plain": [
       "\"00000000000000000000000000000011\""
      ]
     },
     "execution_count": 15,
     "metadata": {},
     "output_type": "execute_result"
    }
   ],
   "source": [
    "a= \"00000000000000000000000000000011\""
   ]
  },
  {
   "cell_type": "code",
   "execution_count": 16,
   "id": "8ff298a8",
   "metadata": {},
   "outputs": [
    {
     "data": {
      "text/plain": [
       "3"
      ]
     },
     "execution_count": 16,
     "metadata": {},
     "output_type": "execute_result"
    }
   ],
   "source": [
    "binary_to_int_modified(a)"
   ]
  },
  {
   "cell_type": "code",
   "execution_count": 1,
   "id": "7ab4c728",
   "metadata": {},
   "outputs": [
    {
     "data": {
      "text/plain": [
       "load_one_byte (generic function with 1 method)"
      ]
     },
     "metadata": {},
     "output_type": "display_data"
    }
   ],
   "source": [
    "alias = Dict(\n",
    "    \"zero\" => \"x0\",\n",
    "    \"ra\" => \"x1\",\n",
    "    \"sp\" => \"x2\",\n",
    "    \"gp\" => \"x3\",\n",
    "    \"tp\" => \"x4\",\n",
    "    \"t0\" => \"x5\",\n",
    "    \"t1\" => \"x6\",\n",
    "    \"t2\" => \"x7\",\n",
    "    \"s0\" => \"x8\",\n",
    "    \"s1\" => \"x9\",\n",
    "    \"a0\" => \"x10\",\n",
    "    \"a1\" => \"x11\",\n",
    "    \"a2\" => \"x12\",\n",
    "    \"a3\" => \"x13\",\n",
    "    \"a4\" => \"x14\",\n",
    "    \"a5\" => \"x15\",\n",
    "    \"a6\" => \"x16\",\n",
    "    \"a7\" => \"x17\",\n",
    "    \"s2\" => \"x18\",\n",
    "    \"s3\" => \"x19\",\n",
    "    \"s4\" => \"x20\",\n",
    "    \"s5\" => \"x21\",\n",
    "    \"s6\" => \"x22\",\n",
    "    \"s7\" => \"x23\",\n",
    "    \"s8\" => \"x24\",\n",
    "    \"s9\" => \"x25\",\n",
    "    \"s10\" => \"x26\",\n",
    "    \"s11\" => \"x27\",\n",
    "    \"t3\" => \"x28\",\n",
    "    \"t4\" => \"x29\",\n",
    "    \"t5\" => \"x30\",\n",
    "    \"t6\" => \"x31\",\n",
    ")\n",
    "\n",
    "opcode_dictionary = Dict(\n",
    "    \"R_type_instructions\" => [\"add\", \"sub\", \"sll\", \"slt\", \"sltu\", \"xor\", \"srl\", \"sra\", \"or\", \"and\", \"mul\"],\n",
    "    \"I_type_instructions\" => [\"addi\", \"slti\", \"sltiu\", \"xori\", \"ori\", \"andi\", \"slli\", \"srli\", \"srai\", \"muli\", \"jalr\", \"jr\", \"li\", \"mv\"],\n",
    "    \"S_type_instructions\" => [\"sb\", \"sh\", \"sw\"],\n",
    "    \"L_type_instructions\" => [\"lb\", \"lh\", \"lw\", \"lbu\", \"lhu\"],\n",
    "    \"SB_type_instructions\" => [\"beq\", \"bne\", \"blt\", \"ble\", \"bge\", \"bltu\", \"bgeu\"],\n",
    "    \"U_type_instructions\" => [\"lui\", \"auipc\"],\n",
    "    \"UJ_type_instructions\" => [\"jal\", \"la\", \"j\"],\n",
    ")\n",
    "\n",
    "function remove_commas(input_string::AbstractString)::AbstractString\n",
    "    return replace(input_string, \",\" => \" \")\n",
    "end\n",
    "\n",
    "function remove_comments(input_string::AbstractString)::AbstractString\n",
    "    return replace(input_string, r\"#.*\" => \"\")\n",
    "end\n",
    "\n",
    "function remove_parentheses(input_string::AbstractString)::AbstractString\n",
    "    return replace(input_string, r\"[()]\" => \" \")\n",
    "end\n",
    "\n",
    "function add_spaces(input_string::AbstractString)::AbstractString\n",
    "    return replace(input_string, r\"(\\w)([x\\d])\" => s\"\\1 \\2\")\n",
    "end\n",
    "\n",
    "function remove_quotes_from_string(input_string::AbstractString)::AbstractString\n",
    "    return replace(input_string, r\"\\\"\" => \"\")\n",
    "end\n",
    "\n",
    "\n",
    "function remove_colon(input_string::AbstractString)::AbstractString\n",
    "    return replace(input_string, r\":\" => \"\")\n",
    "end\n",
    "\n",
    "function remove_empty_strings(strings::Vector{Any})\n",
    "    return filter(x -> !isempty(x), strings)\n",
    "end\n",
    "\n",
    "#function to remove the empty strings from the parts\n",
    "function remove_empty_strings(parts)\n",
    "    return filter(x -> !isempty(x), parts)\n",
    "end\n",
    "\n",
    "function sanitize(raw_line::AbstractString)::AbstractString\n",
    "    modified_line = replace(raw_line, r\"\\b\\d+\\b\" => x -> string(parse(Int, x)))\n",
    "    modified_line = remove_parentheses(modified_line)\n",
    "    modified_line = remove_comments(modified_line)\n",
    "    modified_line = remove_commas(modified_line)\n",
    "    modified_line = remove_quotes_from_string(modified_line)\n",
    "    modified_line = remove_colon(modified_line)\n",
    "    modified_line = strip(modified_line)\n",
    "    return modified_line\n",
    "end\n",
    "\n",
    "#function to replace the register names with their respective values in the instruction\n",
    "function replace_registers(instruction)\n",
    "    for (key, value) in alias\n",
    "        instruction = replace(instruction, key => value)\n",
    "    end\n",
    "    return instruction\n",
    "end\n",
    "\n",
    "function int_to_hex(x::Int)\n",
    "    return lpad(string(x, base=16), 2, \"0\")\n",
    "end\n",
    "\n",
    "function uint_to_hex_(x::UInt)\n",
    "    return lpad(string(x, base=16), 2, \"0\")\n",
    "end\n",
    "\n",
    "function binary_to_int(binary_str::AbstractString)::Int\n",
    "    return parse(Int, binary_str, base=2)\n",
    "end\n",
    "\n",
    "function binary_to_uint(binary_str::AbstractString)::UInt\n",
    "    return parse(UInt, binary_str, base=2)\n",
    "end\n",
    "\n",
    "function int_to_binary(x::Int)::AbstractString\n",
    "    return string(x, base=2)\n",
    "end\n",
    "\n",
    "function uint_to_binary(x::UInt)::AbstractString\n",
    "    return string(x, base=2)\n",
    "end\n",
    "\n",
    "function int_to_binary_5bits(x::Int)::AbstractString\n",
    "    return lpad(string(x, base=2), 5, \"0\")\n",
    "end\n",
    "\n",
    "function int_to_binary_8bits(x::Int)::AbstractString\n",
    "    return lpad(string(x, base=2), 8, \"0\")\n",
    "end\n",
    "\n",
    "function int_to_binary_12bits(x::Int)::AbstractString\n",
    "    return lpad(string(x, base=2), 12, \"0\")\n",
    "end\n",
    "\n",
    "function int_to_binary_20bits(x::Int)::AbstractString\n",
    "    return lpad(string(x, base=2), 20, \"0\")\n",
    "end\n",
    "\n",
    "function int_to_binary_32bits(x::Int)::AbstractString\n",
    "    return lpad(string(x, base=2), 32, \"0\")\n",
    "end\n",
    "\n",
    "function uint_to_binary_32bits(x::UInt)::AbstractString\n",
    "    return lpad(string(x, base=2), 32, \"0\")\n",
    "end\n",
    "\n",
    "#use without 0x to  convert to int\n",
    "function hex_to_int(x::AbstractString)::Int\n",
    "    return parse(Int, x, base=16)\n",
    "end\n",
    "\n",
    "#use without 0x to  convert to uint\n",
    "function hex_to_uint(x::AbstractString)::UInt\n",
    "    return parse(UInt, x, base=16)\n",
    "end\n",
    "\n",
    "function hex_to_32binary(x::AbstractString)::AbstractString\n",
    "    return lpad(string(hex_to_int(x), base=2), 32, \"0\")\n",
    "end\n",
    "\n",
    "function int_to_binary_bits_modified(num::Int, num_bits::Int)::AbstractString\n",
    "    if num >= 0\n",
    "        binary = bitstring(UInt32(num))               # Convert to binary\n",
    "        binary = binary[32-num_bits+1:end]            # Remove '0b' prefix\n",
    "    else\n",
    "        # For negative numbers, compute the two's complement\n",
    "        positive_num = 2^num_bits + num\n",
    "        binary = bitstring(UInt32(positive_num))      # Convert to binary\n",
    "        binary = binary[32-num_bits+1:end]            # Remove '0b' prefix\n",
    "    end\n",
    "    return binary\n",
    "end\n",
    "\n",
    "function binary_to_int_modified(binary::AbstractString)::Int\n",
    "         # For negative numbers, compute the two's complement\n",
    "        positive_num = 2^length(binary) - parse(Int, binary, base=2)\n",
    "        return -positive_num \n",
    "end\n",
    "\n",
    "function store_word(binary_string::AbstractString, memory::Array{Int,2}, row::Int, col::Int)\n",
    "    if length(binary_string) != 32\n",
    "        println(\"Error: Binary string length is not 32 bits.\")\n",
    "        return\n",
    "    end\n",
    "    if col == 1\n",
    "        memory[row, col] = parse(UInt8, binary_string[25:32], base=2)\n",
    "        memory[row, col+1] = parse(UInt8, binary_string[17:24], base=2)\n",
    "        memory[row, col+2] = parse(UInt8, binary_string[9:16], base=2)\n",
    "        memory[row, col+3] = parse(UInt8, binary_string[1:8], base=2)\n",
    "    elseif col == 2\n",
    "        memory[row+1, col-1] = parse(UInt8, binary_string[1:8], base=2)\n",
    "        memory[row, col] = parse(UInt8, binary_string[25:32], base=2)\n",
    "        memory[row, col+1] = parse(UInt8, binary_string[17:25], base=2)\n",
    "        memory[row, col+2] = parse(UInt8, binary_string[9:16], base=2)\n",
    "    elseif col == 3\n",
    "        memory[row+1, col-2] = parse(UInt8, binary_string[9:16], base=2)\n",
    "        memory[row+1, col-1] = parse(UInt8, binary_string[1:8], base=2)\n",
    "        memory[row, col] = parse(UInt8, binary_string[25:32], base=2)\n",
    "        memory[row, col+1] = parse(UInt8, binary_string[17:24], base=2)\n",
    "    elseif col == 4\n",
    "        memory[row+1, col-3] = parse(UInt8, binary_string[17:24], base=2)\n",
    "        memory[row+1, col-2] = parse(UInt8, binary_string[9:16], base=2)\n",
    "        memory[row+1, col-1] = parse(UInt8, binary_string[1:8], base=2)\n",
    "        memory[row, col] = parse(UInt8, binary_string[25:32], base=2)\n",
    "    end\n",
    "end\n",
    "\n",
    "function store_half_word(binary_string::AbstractString, memory::Array{Int,2}, row::Int, col::Int)\n",
    "    if length(binary_string) != 32\n",
    "        println(\"Error: Binary string length is not 32 bits.\")\n",
    "        return\n",
    "    end\n",
    "    if col == 1\n",
    "        memory[row, col] = parse(UInt8, binary_string[25:32], base=2)\n",
    "        memory[row, col+1] = parse(UInt8, binary_string[17:24], base=2)\n",
    "    elseif col == 2\n",
    "        memory[row, col] = parse(UInt8, binary_string[25:32], base=2)\n",
    "        memory[row, col+1] = parse(UInt8, binary_string[17:24], base=2)\n",
    "    elseif col == 3\n",
    "        memory[row, col] = parse(UInt8, binary_string[25:32], base=2)\n",
    "        memory[row, col+1] = parse(UInt8, binary_string[17:24], base=2)\n",
    "    elseif col === 4\n",
    "        memory[row+1, col-3] = parse(UInt8, binary_string[17:24], base=2)\n",
    "        memory[row, col] = parse(UInt8, binary_string[25:32], base=2)\n",
    "    end\n",
    "end\n",
    "\n",
    "function store_one_byte(binary_string::AbstractString, memory::Array{Int,2}, row::Int, col::Int)\n",
    "    if length(binary_string) != 32\n",
    "        println(\"Error: Binary string length is not 32 bits.\")\n",
    "        return\n",
    "    end\n",
    "    memory[row, col] = parse(UInt8, binary_string[25:32], base=2)\n",
    "end\n",
    "\n",
    "function load_word(binary_string::AbstractString, memory::Array{Int,2}, row::Int, col::Int) \n",
    "    if length(binary_string) != 32\n",
    "        println(\"Error: Binary string length is not 32 bits.\")\n",
    "        return\n",
    "    end\n",
    "    if col == 1\n",
    "        temp_value = memory[row, col] + memory[row, col+1]*256 + memory[row, col+2]*65536 + memory[row, col+3]*16777216\n",
    "    elseif col == 2\n",
    "        temp_value = memory[row, col] + memory[row, col+1]*256 + memory[row, col+2]*65536 + memory[row+1, col-1]*16777216\n",
    "    elseif col == 3\n",
    "        temp_value = memory[row, col] + memory[row, col+1]*256 + memory[row+1, col-2]*65536 + memory[row+1, col-1]*16777216\n",
    "    elseif col == 4\n",
    "        temp_value = memory[row, col] + memory[row+1, col-3]*256 + memory[row+1, col-2]*65536 + memory[row+1, col-1]*16777216\n",
    "    end\n",
    "    if temp_value > 2147483647\n",
    "        temp_value -= 4294967296\n",
    "    end\n",
    "    return temp_value\n",
    "end\n",
    "\n",
    "function load_half_word(binary_string::AbstractString, memory::Array{Int,2}, row::Int, col::Int)\n",
    "    if length(binary_string) != 32\n",
    "        println(\"Error: Binary string length is not 32 bits.\")\n",
    "        return\n",
    "    end\n",
    "    if col == 1\n",
    "        return memory[row, col] + memory[row, col+1]*256\n",
    "    elseif col == 2\n",
    "        return memory[row, col] + memory[row, col+1]*256\n",
    "    elseif col == 3\n",
    "        return memory[row, col] + memory[row, col+1]*256\n",
    "    elseif col == 4\n",
    "        return memory[row, col] + memory[row+1, col-3]*256\n",
    "    end\n",
    "end\n",
    "\n",
    "function load_one_byte(binary_string::AbstractString, memory::Array{Int,2}, row::Int, col::Int)\n",
    "    if length(binary_string) != 32\n",
    "        println(\"Error: Binary string length is not 32 bits.\")\n",
    "        return\n",
    "    end\n",
    "    return memory[row, col]\n",
    "end\n",
    "\n",
    "\n",
    "#   # Extract string content between double quotes\n",
    "#                 string_content = match(r\"\\\"(.*)\\\"\", part).captures[1]\n",
    "#                 # Convert each character to its ASCII value and store in memory\n",
    "#                 values = [Int(c) for c in string_content]\n",
    "#                 push!(chunks, values)"
   ]
  },
  {
   "cell_type": "code",
   "execution_count": 2,
   "id": "906687e0",
   "metadata": {},
   "outputs": [
    {
     "data": {
      "text/plain": [
       "\"li a0 0\""
      ]
     },
     "metadata": {},
     "output_type": "display_data"
    }
   ],
   "source": [
    "a = \"li a0 0\""
   ]
  },
  {
   "cell_type": "code",
   "execution_count": 14,
   "id": "eafaf700",
   "metadata": {},
   "outputs": [
    {
     "data": {
      "text/plain": [
       "get_parts_from_instruction (generic function with 1 method)"
      ]
     },
     "metadata": {},
     "output_type": "display_data"
    }
   ],
   "source": [
    "function get_parts_from_instruction(instruction::String)\n",
    "    parts = split(instruction, \" \")\n",
    "    parts = remove_empty_strings(parts)\n",
    "    return parts,parts[1]\n",
    "end"
   ]
  },
  {
   "cell_type": "code",
   "execution_count": 17,
   "id": "438d1d5c",
   "metadata": {},
   "outputs": [
    {
     "data": {
      "text/plain": [
       "(SubString{String}[\"li\", \"a0\", \"0\"], \"li\")"
      ]
     },
     "metadata": {},
     "output_type": "display_data"
    }
   ],
   "source": [
    "parts,opcode=get_parts_from_instruction(a)"
   ]
  },
  {
   "cell_type": "code",
   "execution_count": 18,
   "id": "60c1ef4d",
   "metadata": {},
   "outputs": [
    {
     "data": {
      "text/plain": [
       "\"li\""
      ]
     },
     "metadata": {},
     "output_type": "display_data"
    }
   ],
   "source": [
    "parts[1]"
   ]
  },
  {
   "cell_type": "code",
   "execution_count": 19,
   "id": "a3848d11",
   "metadata": {},
   "outputs": [
    {
     "data": {
      "text/plain": [
       "\"li\""
      ]
     },
     "metadata": {},
     "output_type": "display_data"
    }
   ],
   "source": [
    "opcode"
   ]
  },
  {
   "cell_type": "code",
   "execution_count": 20,
   "id": "6f3d04ce",
   "metadata": {},
   "outputs": [
    {
     "data": {
      "text/plain": [
       "10"
      ]
     },
     "metadata": {},
     "output_type": "display_data"
    }
   ],
   "source": [
    "rd = parse(Int, replace_registers(parts[2])[2:end])"
   ]
  },
  {
   "cell_type": "code",
   "execution_count": 21,
   "id": "cc1cf25b",
   "metadata": {},
   "outputs": [
    {
     "data": {
      "text/plain": [
       "convert_address_to_row_col (generic function with 1 method)"
      ]
     },
     "metadata": {},
     "output_type": "display_data"
    }
   ],
   "source": [
    "function convert_address_to_row_col(address::Int)\n",
    "    temp_col = address % 4\n",
    "    if temp_col == 0\n",
    "        temp_col = 4\n",
    "    end\n",
    "    temp_row = (address - temp_col) ÷ 4 + 1\n",
    "    return temp_row, temp_col\n",
    "end"
   ]
  },
  {
   "cell_type": "code",
   "execution_count": 23,
   "id": "7f752d9e",
   "metadata": {},
   "outputs": [
    {
     "data": {
      "text/plain": [
       "(33, 2)"
      ]
     },
     "metadata": {},
     "output_type": "display_data"
    }
   ],
   "source": [
    "convert_address_to_row_col(130)"
   ]
  },
  {
   "cell_type": "code",
   "execution_count": null,
   "id": "c31be13a",
   "metadata": {},
   "outputs": [],
   "source": []
  }
 ],
 "metadata": {
  "kernelspec": {
   "display_name": "Julia 1.10.2",
   "language": "julia",
   "name": "julia-1.10"
  },
  "language_info": {
   "file_extension": ".jl",
   "mimetype": "application/julia",
   "name": "julia",
   "version": "1.10.2"
  }
 },
 "nbformat": 4,
 "nbformat_minor": 5
}
