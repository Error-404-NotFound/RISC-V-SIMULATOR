{
 "cells": [
  {
   "cell_type": "code",
   "execution_count": 45,
   "id": "d4280e6a-6cf3-4e4e-b471-e92538effc48",
   "metadata": {
    "tags": []
   },
   "outputs": [
    {
     "data": {
      "text/plain": [
       "Dict{String, String} with 32 entries:\n",
       "  \"s8\"   => \"x24\"\n",
       "  \"t0\"   => \"x5\"\n",
       "  \"zero\" => \"x0\"\n",
       "  \"gp\"   => \"x3\"\n",
       "  \"s5\"   => \"x21\"\n",
       "  \"s7\"   => \"x23\"\n",
       "  \"a2\"   => \"x12\"\n",
       "  \"a1\"   => \"x11\"\n",
       "  \"t3\"   => \"x28\"\n",
       "  \"s9\"   => \"x25\"\n",
       "  \"s10\"  => \"x26\"\n",
       "  \"a7\"   => \"x17\"\n",
       "  \"s6\"   => \"x22\"\n",
       "  \"t5\"   => \"x30\"\n",
       "  \"s11\"  => \"x27\"\n",
       "  \"a5\"   => \"x15\"\n",
       "  \"ra\"   => \"x1\"\n",
       "  \"s3\"   => \"x19\"\n",
       "  \"t4\"   => \"x29\"\n",
       "  ⋮      => ⋮"
      ]
     },
     "metadata": {},
     "output_type": "display_data"
    }
   ],
   "source": [
    "alias = Dict(\n",
    "    \"zero\" => \"x0\",\n",
    "    \"ra\" => \"x1\",\n",
    "    \"sp\" => \"x2\",\n",
    "    \"gp\" => \"x3\",\n",
    "    \"tp\" => \"x4\",\n",
    "    \"t0\" => \"x5\",\n",
    "    \"t1\" => \"x6\",\n",
    "    \"t2\" => \"x7\",\n",
    "    \"s0\" => \"x8\",\n",
    "    \"s1\" => \"x9\",\n",
    "    \"a0\" => \"x10\",\n",
    "    \"a1\" => \"x11\",\n",
    "    \"a2\" => \"x12\",\n",
    "    \"a3\" => \"x13\",\n",
    "    \"a4\" => \"x14\",\n",
    "    \"a5\" => \"x15\",\n",
    "    \"a6\" => \"x16\",\n",
    "    \"a7\" => \"x17\",\n",
    "    \"s2\" => \"x18\",\n",
    "    \"s3\" => \"x19\",\n",
    "    \"s4\" => \"x20\",\n",
    "    \"s5\" => \"x21\",\n",
    "    \"s6\" => \"x22\",\n",
    "    \"s7\" => \"x23\",\n",
    "    \"s8\" => \"x24\",\n",
    "    \"s9\" => \"x25\",\n",
    "    \"s10\" => \"x26\",\n",
    "    \"s11\" => \"x27\",\n",
    "    \"t3\" => \"x28\",\n",
    "    \"t4\" => \"x29\",\n",
    "    \"t5\" => \"x30\",\n",
    "    \"t6\" => \"x31\",\n",
    ")"
   ]
  },
  {
   "cell_type": "code",
   "execution_count": 46,
   "id": "cdb17bce-9cd8-403b-992c-eb8504e52e07",
   "metadata": {
    "tags": []
   },
   "outputs": [
    {
     "data": {
      "text/plain": [
       "replace_registers (generic function with 1 method)"
      ]
     },
     "metadata": {},
     "output_type": "display_data"
    }
   ],
   "source": [
    "#function to replace the register names with their respective values in the instruction\n",
    "function replace_registers(instruction)\n",
    "    for (key, value) in alias\n",
    "        instruction = replace(instruction, key => value)\n",
    "    end\n",
    "    return instruction\n",
    "end"
   ]
  },
  {
   "cell_type": "code",
   "execution_count": 48,
   "id": "04ebc2a9-6879-4492-84b8-ff2c2bdf61f5",
   "metadata": {
    "tags": []
   },
   "outputs": [
    {
     "data": {
      "text/plain": [
       "\"li x11 10\""
      ]
     },
     "metadata": {},
     "output_type": "display_data"
    }
   ],
   "source": [
    "replace_registers(\"li a1 10\")"
   ]
  },
  {
   "cell_type": "code",
   "execution_count": null,
   "id": "3e1eb394-0a97-4121-b87a-2632e849fec6",
   "metadata": {
    "tags": []
   },
   "outputs": [],
   "source": [
    "x"
   ]
  },
  {
   "cell_type": "code",
   "execution_count": null,
   "id": "8728dd72-4e12-449a-ba49-a8e015ee3774",
   "metadata": {},
   "outputs": [],
   "source": []
  }
 ],
 "metadata": {
  "kernelspec": {
   "display_name": "Julia 1.10.1",
   "language": "julia",
   "name": "julia-1.10"
  },
  "language_info": {
   "file_extension": ".jl",
   "mimetype": "application/julia",
   "name": "julia",
   "version": "1.10.1"
  }
 },
 "nbformat": 4,
 "nbformat_minor": 5
}
