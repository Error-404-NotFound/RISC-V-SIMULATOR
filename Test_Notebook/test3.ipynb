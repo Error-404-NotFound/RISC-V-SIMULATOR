{
 "cells": [
  {
   "cell_type": "code",
   "execution_count": 45,
   "id": "d4280e6a-6cf3-4e4e-b471-e92538effc48",
   "metadata": {
    "tags": []
   },
   "outputs": [
    {
     "data": {
      "text/plain": [
       "Dict{String, String} with 32 entries:\n",
       "  \"s8\"   => \"x24\"\n",
       "  \"t0\"   => \"x5\"\n",
       "  \"zero\" => \"x0\"\n",
       "  \"gp\"   => \"x3\"\n",
       "  \"s5\"   => \"x21\"\n",
       "  \"s7\"   => \"x23\"\n",
       "  \"a2\"   => \"x12\"\n",
       "  \"a1\"   => \"x11\"\n",
       "  \"t3\"   => \"x28\"\n",
       "  \"s9\"   => \"x25\"\n",
       "  \"s10\"  => \"x26\"\n",
       "  \"a7\"   => \"x17\"\n",
       "  \"s6\"   => \"x22\"\n",
       "  \"t5\"   => \"x30\"\n",
       "  \"s11\"  => \"x27\"\n",
       "  \"a5\"   => \"x15\"\n",
       "  \"ra\"   => \"x1\"\n",
       "  \"s3\"   => \"x19\"\n",
       "  \"t4\"   => \"x29\"\n",
       "  ⋮      => ⋮"
      ]
     },
     "metadata": {},
     "output_type": "display_data"
    }
   ],
   "source": [
    "alias = Dict(\n",
    "    \"zero\" => \"x0\",\n",
    "    \"ra\" => \"x1\",\n",
    "    \"sp\" => \"x2\",\n",
    "    \"gp\" => \"x3\",\n",
    "    \"tp\" => \"x4\",\n",
    "    \"t0\" => \"x5\",\n",
    "    \"t1\" => \"x6\",\n",
    "    \"t2\" => \"x7\",\n",
    "    \"s0\" => \"x8\",\n",
    "    \"s1\" => \"x9\",\n",
    "    \"a0\" => \"x10\",\n",
    "    \"a1\" => \"x11\",\n",
    "    \"a2\" => \"x12\",\n",
    "    \"a3\" => \"x13\",\n",
    "    \"a4\" => \"x14\",\n",
    "    \"a5\" => \"x15\",\n",
    "    \"a6\" => \"x16\",\n",
    "    \"a7\" => \"x17\",\n",
    "    \"s2\" => \"x18\",\n",
    "    \"s3\" => \"x19\",\n",
    "    \"s4\" => \"x20\",\n",
    "    \"s5\" => \"x21\",\n",
    "    \"s6\" => \"x22\",\n",
    "    \"s7\" => \"x23\",\n",
    "    \"s8\" => \"x24\",\n",
    "    \"s9\" => \"x25\",\n",
    "    \"s10\" => \"x26\",\n",
    "    \"s11\" => \"x27\",\n",
    "    \"t3\" => \"x28\",\n",
    "    \"t4\" => \"x29\",\n",
    "    \"t5\" => \"x30\",\n",
    "    \"t6\" => \"x31\",\n",
    ")"
   ]
  },
  {
   "cell_type": "code",
   "execution_count": 46,
   "id": "cdb17bce-9cd8-403b-992c-eb8504e52e07",
   "metadata": {
    "tags": []
   },
   "outputs": [
    {
     "data": {
      "text/plain": [
       "replace_registers (generic function with 1 method)"
      ]
     },
     "metadata": {},
     "output_type": "display_data"
    }
   ],
   "source": [
    "#function to replace the register names with their respective values in the instruction\n",
    "function replace_registers(instruction)\n",
    "    for (key, value) in alias\n",
    "        instruction = replace(instruction, key => value)\n",
    "    end\n",
    "    return instruction\n",
    "end"
   ]
  },
  {
   "cell_type": "code",
   "execution_count": 50,
   "id": "04ebc2a9-6879-4492-84b8-ff2c2bdf61f5",
   "metadata": {
    "tags": []
   },
   "outputs": [
    {
     "data": {
      "text/plain": [
       "\"li x11 0 x11\""
      ]
     },
     "metadata": {},
     "output_type": "display_data"
    }
   ],
   "source": [
    "replace_registers(\"li a1 0 a1\")"
   ]
  },
  {
   "cell_type": "code",
   "execution_count": 52,
   "id": "3e1eb394-0a97-4121-b87a-2632e849fec6",
   "metadata": {
    "tags": []
   },
   "outputs": [
    {
     "data": {
      "text/plain": [
       "\"bubblesort: -1\""
      ]
     },
     "metadata": {},
     "output_type": "display_data"
    }
   ],
   "source": [
    "replace_registers(\"bubblesort: -1\")"
   ]
  },
  {
   "cell_type": "code",
   "execution_count": 66,
   "id": "f68abcb0",
   "metadata": {},
   "outputs": [
    {
     "data": {
      "text/plain": [
       "remove_empty_strings (generic function with 2 methods)"
      ]
     },
     "metadata": {},
     "output_type": "display_data"
    }
   ],
   "source": [
    "function remove_commas(input_string::AbstractString)::AbstractString\n",
    "    return replace(input_string, \",\" => \" \")\n",
    "end\n",
    "\n",
    "function remove_comments(input_string::AbstractString)::AbstractString\n",
    "    return replace(input_string, r\"#.*\" => \"\")\n",
    "end\n",
    "\n",
    "function remove_parentheses(input_string::AbstractString)::AbstractString\n",
    "    return replace(input_string, r\"[()]\" => \" \")\n",
    "end\n",
    "\n",
    "function add_spaces(input_string::AbstractString)::AbstractString\n",
    "    return replace(input_string, r\"(\\w)([x\\d])\" => s\"\\1 \\2\")\n",
    "end\n",
    "\n",
    "function remove_quotes_from_string(input_string::AbstractString)::AbstractString\n",
    "    return replace(input_string, r\"\\\"\" => \"\")\n",
    "end\n",
    "\n",
    "\n",
    "function remove_colon(input_string::AbstractString)::AbstractString\n",
    "    return replace(input_string, r\":\" => \"\")\n",
    "end\n",
    "\n",
    "function remove_empty_strings(strings::Vector{Any})\n",
    "    return filter(x -> !isempty(x), strings)\n",
    "end\n",
    "\n",
    "function remove_empty_strings()\n",
    "    \n",
    "end"
   ]
  },
  {
   "cell_type": "code",
   "execution_count": 67,
   "id": "8728dd72-4e12-449a-ba49-a8e015ee3774",
   "metadata": {},
   "outputs": [
    {
     "data": {
      "text/plain": [
       "sanitize (generic function with 1 method)"
      ]
     },
     "metadata": {},
     "output_type": "display_data"
    }
   ],
   "source": [
    "function sanitize(raw_line::AbstractString)::AbstractString\n",
    "    modified_line = replace(raw_line, r\"\\b\\d+\\b\" => x -> string(parse(Int, x)))\n",
    "    modified_line = remove_parentheses(modified_line)\n",
    "    modified_line = remove_comments(modified_line)\n",
    "    modified_line = remove_commas(modified_line)\n",
    "    modified_line = remove_quotes_from_string(modified_line)\n",
    "    modified_line = remove_colon(modified_line)\n",
    "    modified_line = strip(modified_line)\n",
    "    return modified_line\n",
    "end"
   ]
  },
  {
   "cell_type": "code",
   "execution_count": 75,
   "id": "e742f005",
   "metadata": {},
   "outputs": [
    {
     "data": {
      "text/plain": [
       "\"li a0  0\""
      ]
     },
     "metadata": {},
     "output_type": "display_data"
    }
   ],
   "source": [
    "x=sanitize(\"li a0, 0\")"
   ]
  },
  {
   "cell_type": "code",
   "execution_count": 76,
   "id": "f6c03a28",
   "metadata": {},
   "outputs": [
    {
     "data": {
      "text/plain": [
       "4-element Vector{SubString{String}}:\n",
       " \"li\"\n",
       " \"a0\"\n",
       " \"\"\n",
       " \"0\""
      ]
     },
     "metadata": {},
     "output_type": "display_data"
    }
   ],
   "source": [
    "parts = split(x, \" \")"
   ]
  },
  {
   "cell_type": "code",
   "execution_count": 77,
   "id": "8d9de0eb",
   "metadata": {},
   "outputs": [
    {
     "data": {
      "text/plain": [
       "remove_empty_strings (generic function with 3 methods)"
      ]
     },
     "metadata": {},
     "output_type": "display_data"
    }
   ],
   "source": [
    "#function to remove the empty strings from the parts\n",
    "function remove_empty_strings(parts)\n",
    "    return filter(x -> !isempty(x), parts)\n",
    "end"
   ]
  },
  {
   "cell_type": "code",
   "execution_count": 78,
   "id": "494a37f3",
   "metadata": {},
   "outputs": [
    {
     "data": {
      "text/plain": [
       "3-element Vector{SubString{String}}:\n",
       " \"li\"\n",
       " \"a0\"\n",
       " \"0\""
      ]
     },
     "metadata": {},
     "output_type": "display_data"
    }
   ],
   "source": [
    "x=remove_empty_strings(parts)"
   ]
  },
  {
   "cell_type": "code",
   "execution_count": 4,
   "id": "91b1e57b",
   "metadata": {},
   "outputs": [
    {
     "data": {
      "text/plain": [
       "binary_to_int_modified (generic function with 1 method)"
      ]
     },
     "execution_count": 4,
     "metadata": {},
     "output_type": "execute_result"
    }
   ],
   "source": [
    "function binary_to_int_modified(binary::AbstractString)::Int\n",
    "    if binary[1] == '0'\n",
    "        return parse(Int, binary, base=2)\n",
    "    else\n",
    "        # For negative numbers, compute the two's complement\n",
    "        positive_num = 2^length(binary) - parse(Int, binary, base=2)\n",
    "        return -positive_num\n",
    "    end\n",
    "end"
   ]
  },
  {
   "cell_type": "code",
   "execution_count": 15,
   "id": "60c726f7",
   "metadata": {},
   "outputs": [
    {
     "data": {
      "text/plain": [
       "\"00000000000000000000000000000011\""
      ]
     },
     "execution_count": 15,
     "metadata": {},
     "output_type": "execute_result"
    }
   ],
   "source": [
    "a= \"00000000000000000000000000000011\""
   ]
  },
  {
   "cell_type": "code",
   "execution_count": 16,
   "id": "8ff298a8",
   "metadata": {},
   "outputs": [
    {
     "data": {
      "text/plain": [
       "3"
      ]
     },
     "execution_count": 16,
     "metadata": {},
     "output_type": "execute_result"
    }
   ],
   "source": [
    "binary_to_int_modified(a)"
   ]
  },
  {
   "cell_type": "code",
   "execution_count": null,
   "id": "7ab4c728",
   "metadata": {},
   "outputs": [],
   "source": []
  }
 ],
 "metadata": {
  "kernelspec": {
   "display_name": "Julia 1.10.1",
   "language": "julia",
   "name": "julia-1.10"
  },
  "language_info": {
   "file_extension": ".jl",
   "mimetype": "application/julia",
   "name": "julia",
   "version": "1.10.1"
  }
 },
 "nbformat": 4,
 "nbformat_minor": 5
}
