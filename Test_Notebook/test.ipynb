{
 "cells": [
  {
   "cell_type": "code",
   "execution_count": 1,
   "id": "1dba713e-baf4-4237-9c9a-a960e34db4ba",
   "metadata": {
    "tags": []
   },
   "outputs": [
    {
     "data": {
      "text/plain": [
       "parse_assembly (generic function with 1 method)"
      ]
     },
     "metadata": {},
     "output_type": "display_data"
    }
   ],
   "source": [
    "function parse_assembly(file_path::AbstractString)\n",
    "    text_instructions = []\n",
    "    data_instructions = []\n",
    "    parsing_text_section = false\n",
    "    parsing_data_section = false\n",
    "\n",
    "    file = open(file_path, \"r\")\n",
    "\n",
    "    for line in eachline(file)\n",
    "        if occursin(\".text\", line)\n",
    "            parsing_text_section = true\n",
    "            parsing_data_section = false\n",
    "            continue\n",
    "        end\n",
    "        if occursin(\".data\", line)\n",
    "            parsing_text_section = false\n",
    "            parsing_data_section = true\n",
    "            continue\n",
    "        end\n",
    "        if !(parsing_text_section || parsing_data_section)\n",
    "            continue\n",
    "        end\n",
    "        if isempty(line)\n",
    "            continue\n",
    "        end\n",
    "        if parsing_text_section\n",
    "            push!(text_instructions, line)\n",
    "        elseif parsing_data_section\n",
    "            push!(data_instructions, line)\n",
    "        end\n",
    "    end\n",
    "\n",
    "    close(file)\n",
    "    return text_instructions, data_instructions\n",
    "end\n"
   ]
  },
  {
   "cell_type": "code",
   "execution_count": 2,
   "id": "4f36f240-c3ca-4aa3-b410-d613160e083c",
   "metadata": {
    "tags": []
   },
   "outputs": [
    {
     "data": {
      "text/plain": [
       "\"./test.asm\""
      ]
     },
     "metadata": {},
     "output_type": "display_data"
    }
   ],
   "source": [
    "file_path = \"./test.asm\""
   ]
  },
  {
   "cell_type": "code",
   "execution_count": 3,
   "id": "952e3a56-2e92-449e-ba0b-b938897810c5",
   "metadata": {
    "tags": []
   },
   "outputs": [
    {
     "data": {
      "text/plain": [
       "(Any[\"    li x1 5\", \"    li x2 134567\", \"    sw x2 0(x1)\", \"    lw x3 0(x1)\"], Any[])"
      ]
     },
     "metadata": {},
     "output_type": "display_data"
    }
   ],
   "source": [
    "parse_assembly(file_path)"
   ]
  },
  {
   "cell_type": "code",
   "execution_count": null,
   "id": "ad0ba822-c55f-45d2-bca0-eef9e3511cb5",
   "metadata": {},
   "outputs": [],
   "source": []
  }
 ],
 "metadata": {
  "kernelspec": {
   "display_name": "Julia 1.10.1",
   "language": "julia",
   "name": "julia-1.10"
  },
  "language_info": {
   "file_extension": ".jl",
   "mimetype": "application/julia",
   "name": "julia",
   "version": "1.10.1"
  }
 },
 "nbformat": 4,
 "nbformat_minor": 5
}
