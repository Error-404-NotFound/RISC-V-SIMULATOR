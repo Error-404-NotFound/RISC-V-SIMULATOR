{
 "cells": [
  {
   "cell_type": "code",
   "execution_count": 1,
   "id": "d4280e6a-6cf3-4e4e-b471-e92538effc48",
   "metadata": {
    "tags": []
   },
   "outputs": [
    {
     "data": {
      "text/plain": [
       "Dict{String, Int64} with 32 entries:\n",
       "  \"s8\"   => 24\n",
       "  \"t0\"   => 5\n",
       "  \"zero\" => 0\n",
       "  \"gp\"   => 3\n",
       "  \"s5\"   => 21\n",
       "  \"s7\"   => 23\n",
       "  \"a2\"   => 12\n",
       "  \"a1\"   => 11\n",
       "  \"t3\"   => 28\n",
       "  \"s9\"   => 25\n",
       "  \"s10\"  => 26\n",
       "  \"a7\"   => 17\n",
       "  \"s6\"   => 22\n",
       "  \"t5\"   => 30\n",
       "  \"s11\"  => 27\n",
       "  \"a5\"   => 15\n",
       "  \"ra\"   => 1\n",
       "  \"s3\"   => 19\n",
       "  \"t4\"   => 29\n",
       "  \"s1\"   => 9\n",
       "  \"a3\"   => 13\n",
       "  \"sp\"   => 2\n",
       "  \"t2\"   => 7\n",
       "  \"s2\"   => 18\n",
       "  \"s4\"   => 20\n",
       "  ⋮      => ⋮"
      ]
     },
     "execution_count": 1,
     "metadata": {},
     "output_type": "execute_result"
    }
   ],
   "source": [
    "alias = Dict(\n",
    "    \"zero\" => 0,\n",
    "    \"ra\" => 1,\n",
    "    \"sp\" => 2,\n",
    "    \"gp\" => 3,\n",
    "    \"tp\" => 4,\n",
    "    \"t0\" => 5,\n",
    "    \"t1\" => 6,\n",
    "    \"t2\" => 7,\n",
    "    \"s0\" => 8,\n",
    "    \"s1\" => 9,\n",
    "    \"a0\" => 10,\n",
    "    \"a1\" => 11,\n",
    "    \"a2\" => 12,\n",
    "    \"a3\" => 13,\n",
    "    \"a4\" => 14,\n",
    "    \"a5\" => 15,\n",
    "    \"a6\" => 16,\n",
    "    \"a7\" => 17,\n",
    "    \"s2\" => 18,\n",
    "    \"s3\" => 19,\n",
    "    \"s4\" => 20,\n",
    "    \"s5\" => 21,\n",
    "    \"s6\" => 22,\n",
    "    \"s7\" => 23,\n",
    "    \"s8\" => 24,\n",
    "    \"s9\" => 25,\n",
    "    \"s10\" => 26,\n",
    "    \"s11\" => 27,\n",
    "    \"t3\" => 28,\n",
    "    \"t4\" => 29,\n",
    "    \"t5\" => 30,\n",
    "    \"t6\" => 31\n",
    ")"
   ]
  },
  {
   "cell_type": "code",
   "execution_count": 7,
   "id": "cdb17bce-9cd8-403b-992c-eb8504e52e07",
   "metadata": {
    "tags": []
   },
   "outputs": [
    {
     "data": {
      "text/plain": [
       "replace_register_names (generic function with 3 methods)"
      ]
     },
     "execution_count": 7,
     "metadata": {},
     "output_type": "execute_result"
    }
   ],
   "source": [
    "#function to replace the register names with their respective values\n",
    "function replace_register_names(parts::String)\n",
    "    for i in 1:length(parts)\n",
    "        if haskey(alias, parts[i])\n",
    "            parts[i] = \"x\"*string(alias[parts[i]])\n",
    "        end\n",
    "    end\n",
    "    return parts\n",
    "end"
   ]
  },
  {
   "cell_type": "code",
   "execution_count": 9,
   "id": "04ebc2a9-6879-4492-84b8-ff2c2bdf61f5",
   "metadata": {
    "tags": []
   },
   "outputs": [
    {
     "data": {
      "text/plain": [
       "\"li a0 1\""
      ]
     },
     "execution_count": 9,
     "metadata": {},
     "output_type": "execute_result"
    }
   ],
   "source": [
    "x=replace_register_names(\"li a0 1\")"
   ]
  },
  {
   "cell_type": "code",
   "execution_count": 10,
   "id": "3e1eb394-0a97-4121-b87a-2632e849fec6",
   "metadata": {
    "tags": []
   },
   "outputs": [
    {
     "data": {
      "text/plain": [
       "\"li a0 1\""
      ]
     },
     "execution_count": 10,
     "metadata": {},
     "output_type": "execute_result"
    }
   ],
   "source": [
    "x"
   ]
  },
  {
   "cell_type": "code",
   "execution_count": null,
   "id": "8728dd72-4e12-449a-ba49-a8e015ee3774",
   "metadata": {},
   "outputs": [],
   "source": []
  }
 ],
 "metadata": {
  "kernelspec": {
   "display_name": "Julia 1.10.1",
   "language": "julia",
   "name": "julia-1.10"
  },
  "language_info": {
   "file_extension": ".jl",
   "mimetype": "application/julia",
   "name": "julia",
   "version": "1.10.1"
  }
 },
 "nbformat": 4,
 "nbformat_minor": 5
}
