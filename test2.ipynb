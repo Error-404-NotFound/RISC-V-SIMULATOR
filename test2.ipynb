{
 "cells": [
  {
   "cell_type": "code",
   "execution_count": 69,
   "id": "d1839b1a-4f93-4ea0-875d-61a53753f5c9",
   "metadata": {
    "tags": []
   },
   "outputs": [
    {
     "data": {
      "text/plain": [
       "parse_and_store_memory (generic function with 1 method)"
      ]
     },
     "metadata": {},
     "output_type": "display_data"
    }
   ],
   "source": [
    "function parse_and_store_memory(assembly::Vector{String}, memory::Array{Int,2})\n",
    "    current_row = 1\n",
    "\n",
    "    for line in assembly\n",
    "        parts = split(line, ':')\n",
    "        if length(parts) == 2\n",
    "            variable_name = strip(parts[1])\n",
    "            data_values = strip(parts[2])\n",
    "\n",
    "            if occursin(\".word\", variable_name)\n",
    "                values = parse.(Int, split(data_values))\n",
    "                if current_row <= size(memory, 1)\n",
    "                    memory[current_row, 1:length(values)] .= values\n",
    "                    current_row += 1\n",
    "                else\n",
    "                    println(\"Error: Insufficient memory rows for .word directive.\")\n",
    "                end\n",
    "            elseif occursin(\".string\", variable_name)\n",
    "                # Extract string content between double quotes\n",
    "                string_content = match(r\"\\\"(.*)\\\"\", data_values).captures[1]\n",
    "                # Convert each character to its ASCII value and store in memory\n",
    "                values = [Int(c) for c in string_content]\n",
    "\n",
    "                if current_row <= size(memory, 1)\n",
    "                    memory[current_row, 1:length(values)] .= values\n",
    "                    current_row += 1\n",
    "                else\n",
    "                    println(\"Error: Insufficient memory rows for .string directive.\")\n",
    "                end\n",
    "            end\n",
    "        end\n",
    "    end\n",
    "end"
   ]
  },
  {
   "cell_type": "code",
   "execution_count": 70,
   "id": "da0334ff-a330-4484-b995-44f62c951b91",
   "metadata": {
    "tags": []
   },
   "outputs": [],
   "source": [
    "assembly_code = [\"array: .word 10 20 30\", \"str: .string \\\"Hello\\\"\", \"\"]\n",
    "memory_array = zeros(Int, 1024, 4)\n",
    "parse_and_store_memory(assembly_code, memory_array)"
   ]
  },
  {
   "cell_type": "code",
   "execution_count": 71,
   "id": "0095f76f-6516-4862-9db7-0500030265b3",
   "metadata": {
    "tags": []
   },
   "outputs": [],
   "source": [
    "# println(memory_array)"
   ]
  },
  {
   "cell_type": "code",
   "execution_count": 72,
   "id": "596e2ae2-ba7e-49ed-9695-7f8b5799c54b",
   "metadata": {
    "tags": []
   },
   "outputs": [
    {
     "data": {
      "text/plain": [
       "add_spaces (generic function with 1 method)"
      ]
     },
     "metadata": {},
     "output_type": "display_data"
    }
   ],
   "source": [
    "function remove_commas(input_string::AbstractString)::AbstractString\n",
    "    return replace(input_string, \",\" => \" \")\n",
    "end\n",
    "\n",
    "function remove_comments(input_string::AbstractString)::AbstractString\n",
    "    return replace(input_string, r\"#.*\" => \"\")\n",
    "end\n",
    "\n",
    "function remove_parentheses(input_string::AbstractString)::AbstractString\n",
    "    return replace(input_string, r\"[()]\" => \" \")\n",
    "end\n",
    "\n",
    "function add_spaces(input_string::AbstractString)::AbstractString\n",
    "    return replace(input_string, r\"(\\w)([x\\d])\" => s\"\\1 \\2\")\n",
    "end"
   ]
  },
  {
   "cell_type": "code",
   "execution_count": 73,
   "id": "9877e038-3aa9-4874-87cd-8cd9ad2c94cc",
   "metadata": {
    "tags": []
   },
   "outputs": [
    {
     "data": {
      "text/plain": [
       "sanitize (generic function with 1 method)"
      ]
     },
     "metadata": {},
     "output_type": "display_data"
    }
   ],
   "source": [
    "function sanitize(raw_line::AbstractString)::AbstractString\n",
    "    modified_line = replace(raw_line, r\"\\b\\d+\\b\" => x -> string(parse(Int, x)))\n",
    "    modified_line = remove_parentheses(modified_line)\n",
    "    modified_line = remove_comments(modified_line)\n",
    "    modified_line = remove_commas(modified_line)\n",
    "    modified_line = strip(modified_line)\n",
    "    return modified_line\n",
    "end"
   ]
  },
  {
   "cell_type": "code",
   "execution_count": 74,
   "id": "2537f48b-c34b-45c5-b893-2b4275fbcbbc",
   "metadata": {
    "tags": []
   },
   "outputs": [],
   "source": []
  },
  {
   "cell_type": "code",
   "execution_count": 75,
   "id": "7bebcce9-31a2-4d79-a46b-6e17209c308b",
   "metadata": {
    "tags": []
   },
   "outputs": [
    {
     "data": {
      "text/plain": [
       "extract_literals (generic function with 1 method)"
      ]
     },
     "metadata": {},
     "output_type": "display_data"
    }
   ],
   "source": [
    "function extract_literals(assembly::Vector{String})\n",
    "    literals = []\n",
    "\n",
    "    for line in assembly\n",
    "        sanitized_line = sanitize(line)\n",
    "        parts = split(sanitized_line, ':')\n",
    "\n",
    "        if length(parts) == 2\n",
    "            variable_name = strip(parts[1])\n",
    "            data_values = strip(parts[2])\n",
    "            \n",
    "            if occursin(\".word\", line[1])  # Check if the line contains .word\n",
    "                # Extract values after .word\n",
    "                values = parse.(Int, split(data_values))\n",
    "                append!(literals, values)\n",
    "            elseif occursin(\".string\", variable_name)\n",
    "                # Extract string content between double quotes\n",
    "                string_content = match(r\"\\\"(.*)\\\"\", data_values)\n",
    "                if string_content !== nothing\n",
    "                    append!(literals, [Int(c) for c in string_content.captures[1]])\n",
    "                else\n",
    "                    println(\"Error: Incorrect .string format in line: $line\")\n",
    "                end\n",
    "            end\n",
    "        end\n",
    "    end\n",
    "\n",
    "    return literals\n",
    "end"
   ]
  },
  {
   "cell_type": "code",
   "execution_count": 76,
   "id": "4c004ecb-2ac5-40d4-a950-1577332d3d2c",
   "metadata": {
    "tags": []
   },
   "outputs": [
    {
     "ename": "MethodError",
     "evalue": "MethodError: no method matching occursin(::String, ::Char)\n\nClosest candidates are:\n  occursin(::Any)\n   @ Base strings/search.jl:724\n  occursin(::Union{AbstractChar, AbstractString}, !Matched::AbstractString)\n   @ Base strings/search.jl:699\n",
     "output_type": "error",
     "traceback": [
      "MethodError: no method matching occursin(::String, ::Char)\n",
      "\n",
      "Closest candidates are:\n",
      "  occursin(::Any)\n",
      "   @ Base strings/search.jl:724\n",
      "  occursin(::Union{AbstractChar, AbstractString}, !Matched::AbstractString)\n",
      "   @ Base strings/search.jl:699\n",
      "\n",
      "\n",
      "Stacktrace:\n",
      " [1] extract_literals(assembly::Vector{String})\n",
      "   @ Main ~/Desktop/Project/RISC-V-SIMULATOR/test2.ipynb:12\n",
      " [2] top-level scope\n",
      "   @ ~/Desktop/Project/RISC-V-SIMULATOR/test2.ipynb:3"
     ]
    }
   ],
   "source": [
    "# Example usage:\n",
    "assembly_code = [\"array: .word 10 20 30\", \"str: .string \\\"Hello\\\"\", \"\"]\n",
    "literals = extract_literals(assembly_code)"
   ]
  },
  {
   "cell_type": "code",
   "execution_count": 77,
   "id": "3422451a-c352-44c8-bddd-eabf5cf8f2c4",
   "metadata": {
    "tags": []
   },
   "outputs": [
    {
     "ename": "UndefVarError",
     "evalue": "UndefVarError: `literals` not defined",
     "output_type": "error",
     "traceback": [
      "UndefVarError: `literals` not defined\n",
      "\n",
      "Stacktrace:\n",
      " [1] top-level scope\n",
      "   @ ~/Desktop/Project/RISC-V-SIMULATOR/test2.ipynb:1"
     ]
    }
   ],
   "source": [
    "println(literals)"
   ]
  },
  {
   "cell_type": "code",
   "execution_count": 78,
   "id": "f3c442c5-33ba-47ed-9bf6-dc83fcf9fb38",
   "metadata": {
    "tags": []
   },
   "outputs": [
    {
     "data": {
      "text/plain": [
       "\"Hello\""
      ]
     },
     "metadata": {},
     "output_type": "display_data"
    }
   ],
   "source": [
    "str = \"Hello\""
   ]
  },
  {
   "cell_type": "code",
   "execution_count": 79,
   "id": "9d619649-ce14-482a-b36d-14d84e782648",
   "metadata": {
    "tags": []
   },
   "outputs": [
    {
     "name": "stdout",
     "output_type": "stream",
     "text": [
      "Hello\n"
     ]
    }
   ],
   "source": [
    "println(str)"
   ]
  },
  {
   "cell_type": "code",
   "execution_count": 80,
   "id": "c1476ae2-a5b7-45ae-b7b5-bce8a340c318",
   "metadata": {
    "tags": []
   },
   "outputs": [
    {
     "ename": "LoadError",
     "evalue": "LoadError: PCRE compilation error: quantifier does not follow a repeatable item at offset 0\nin expression starting at /home/aniket/Desktop/Project/RISC-V-SIMULATOR/test2.ipynb:11",
     "output_type": "error",
     "traceback": [
      "LoadError: PCRE compilation error: quantifier does not follow a repeatable item at offset 0\n",
      "in expression starting at /home/aniket/Desktop/Project/RISC-V-SIMULATOR/test2.ipynb:11\n",
      "\n",
      "Stacktrace:\n",
      "  [1] error(s::String)\n",
      "    @ Base ./error.jl:35\n",
      "  [2] compile(pattern::String, options::UInt32)\n",
      "    @ Base.PCRE ./pcre.jl:165\n",
      "  [3] compile(regex::Regex)\n",
      "    @ Base ./regex.jl:80\n",
      "  [4] Regex(pattern::String, compile_options::UInt32, match_options::UInt32)\n",
      "    @ Base ./regex.jl:40\n",
      "  [5] Regex(pattern::String)\n",
      "    @ Base ./regex.jl:68\n",
      "  [6] var\"@r_str\"(__source__::LineNumberNode, __module__::Module, pattern::Any, flags::Vararg{Any})\n",
      "    @ Base ./regex.jl:123\n",
      "  [7] eval\n",
      "    @ ./boot.jl:385 [inlined]\n",
      "  [8] include_string(mapexpr::typeof(REPL.softscope), mod::Module, code::String, filename::String)\n",
      "    @ Base ./loading.jl:2076\n",
      "  [9] #invokelatest#2\n",
      "    @ ./essentials.jl:892 [inlined]\n",
      " [10] invokelatest\n",
      "    @ ./essentials.jl:889 [inlined]\n",
      " [11] (::VSCodeServer.var\"#214#215\"{VSCodeServer.NotebookRunCellArguments, String})()\n",
      "    @ VSCodeServer ~/.vscode/extensions/julialang.language-julia-1.73.2/scripts/packages/VSCodeServer/src/serve_notebook.jl:19\n",
      " [12] withpath(f::VSCodeServer.var\"#214#215\"{VSCodeServer.NotebookRunCellArguments, String}, path::String)\n",
      "    @ VSCodeServer ~/.vscode/extensions/julialang.language-julia-1.73.2/scripts/packages/VSCodeServer/src/repl.jl:274\n",
      " [13] notebook_runcell_request(conn::VSCodeServer.JSONRPC.JSONRPCEndpoint{Base.PipeEndpoint, Base.PipeEndpoint}, params::VSCodeServer.NotebookRunCellArguments)\n",
      "    @ VSCodeServer ~/.vscode/extensions/julialang.language-julia-1.73.2/scripts/packages/VSCodeServer/src/serve_notebook.jl:13\n",
      " [14] dispatch_msg(x::VSCodeServer.JSONRPC.JSONRPCEndpoint{Base.PipeEndpoint, Base.PipeEndpoint}, dispatcher::VSCodeServer.JSONRPC.MsgDispatcher, msg::Dict{String, Any})\n",
      "    @ VSCodeServer.JSONRPC ~/.vscode/extensions/julialang.language-julia-1.73.2/scripts/packages/JSONRPC/src/typed.jl:67\n",
      " [15] serve_notebook(pipename::String, outputchannel_logger::Base.CoreLogging.SimpleLogger; crashreporting_pipename::String)\n",
      "    @ VSCodeServer ~/.vscode/extensions/julialang.language-julia-1.73.2/scripts/packages/VSCodeServer/src/serve_notebook.jl:139\n",
      " [16] top-level scope\n",
      "    @ ~/.vscode/extensions/julialang.language-julia-1.73.2/scripts/notebook/notebook.jl:35"
     ]
    }
   ],
   "source": [
    "assembly_code = [\"array: .word 10 20 30\", \"str: .string \\\"Hello\\\"\", \"\"]\n",
    "\n",
    "function extract_literals(code)\n",
    "    literals = []\n",
    "    for line in code\n",
    "        # Match numeric literals\n",
    "        numeric_literals = matchall(r\"\\b\\d+\\b\", line)\n",
    "        append!(literals, parse.(Int, numeric_literals))\n",
    "\n",
    "        # Match string literals\n",
    "        string_literals = matchall(r\"*\", line)\n",
    "        append!(literals, string_literals)\n",
    "    end\n",
    "    return literals\n",
    "end\n",
    "\n",
    "literals = extract_literals(assembly_code)\n",
    "println(\"Literals: \", literals)\n"
   ]
  },
  {
   "cell_type": "code",
   "execution_count": 81,
   "id": "f2e3ac25-9805-46b6-8e11-6ffdaeb2d91f",
   "metadata": {},
   "outputs": [
    {
     "data": {
      "text/plain": [
       "int_to_binary_5bits (generic function with 1 method)"
      ]
     },
     "metadata": {},
     "output_type": "display_data"
    }
   ],
   "source": [
    "function int_to_binary_5bits(x::Int)::AbstractString\n",
    "    return lpad(string(x, base=2), 5, \"0\")\n",
    "end"
   ]
  },
  {
   "cell_type": "code",
   "execution_count": 82,
   "id": "919abb4a-0569-40e1-96a2-eb22d74609ef",
   "metadata": {},
   "outputs": [
    {
     "data": {
      "text/plain": [
       "18"
      ]
     },
     "metadata": {},
     "output_type": "display_data"
    }
   ],
   "source": [
    "x = 18"
   ]
  },
  {
   "cell_type": "code",
   "execution_count": 83,
   "id": "f43eeb5b",
   "metadata": {},
   "outputs": [
    {
     "data": {
      "text/plain": [
       "\"10010\""
      ]
     },
     "metadata": {},
     "output_type": "display_data"
    }
   ],
   "source": [
    "a=int_to_binary_5bits(x)"
   ]
  },
  {
   "cell_type": "code",
   "execution_count": 84,
   "id": "146ae03b",
   "metadata": {},
   "outputs": [
    {
     "data": {
      "text/plain": [
       "\"001\""
      ]
     },
     "metadata": {},
     "output_type": "display_data"
    }
   ],
   "source": [
    "reverse(a[1:3])"
   ]
  },
  {
   "cell_type": "code",
   "execution_count": 85,
   "id": "9fac22d4",
   "metadata": {},
   "outputs": [
    {
     "data": {
      "text/plain": [
       "hex_to_32binary (generic function with 1 method)"
      ]
     },
     "metadata": {},
     "output_type": "display_data"
    }
   ],
   "source": [
    "function hex_to_32binary(x::AbstractString)::AbstractString\n",
    "    return lpad(string(hex_to_int(x), base=2), 32, \"0\")\n",
    "end"
   ]
  },
  {
   "cell_type": "code",
   "execution_count": 86,
   "id": "bf6c8131",
   "metadata": {},
   "outputs": [
    {
     "data": {
      "text/plain": [
       "hex_to_int (generic function with 1 method)"
      ]
     },
     "metadata": {},
     "output_type": "display_data"
    }
   ],
   "source": [
    "function hex_to_int(x::AbstractString)::Int\n",
    "    return parse(Int, x, base=16)\n",
    "end"
   ]
  },
  {
   "cell_type": "code",
   "execution_count": 87,
   "id": "d7ed4116",
   "metadata": {},
   "outputs": [
    {
     "data": {
      "text/plain": [
       "\"00309463\""
      ]
     },
     "metadata": {},
     "output_type": "display_data"
    }
   ],
   "source": [
    "a=\"00309463\""
   ]
  },
  {
   "cell_type": "code",
   "execution_count": 88,
   "id": "a2028ec8",
   "metadata": {},
   "outputs": [
    {
     "data": {
      "text/plain": [
       "\"00000000001100001001010001100011\""
      ]
     },
     "metadata": {},
     "output_type": "display_data"
    }
   ],
   "source": [
    "hex_to_32binary(a)"
   ]
  },
  {
   "cell_type": "code",
   "execution_count": 89,
   "id": "4be205e1",
   "metadata": {},
   "outputs": [
    {
     "data": {
      "text/plain": [
       "23423"
      ]
     },
     "metadata": {},
     "output_type": "display_data"
    }
   ],
   "source": [
    "a=23423"
   ]
  },
  {
   "cell_type": "code",
   "execution_count": 90,
   "id": "3cf2354a",
   "metadata": {},
   "outputs": [
    {
     "data": {
      "text/plain": [
       "int_to_binary_12bits (generic function with 1 method)"
      ]
     },
     "metadata": {},
     "output_type": "display_data"
    }
   ],
   "source": [
    "function int_to_binary_12bits(x::Int)::AbstractString\n",
    "    return lpad(string(x, base=2), 12, \"0\")\n",
    "end"
   ]
  },
  {
   "cell_type": "code",
   "execution_count": 91,
   "id": "132e2873",
   "metadata": {},
   "outputs": [
    {
     "data": {
      "text/plain": [
       "\"101101101111111\""
      ]
     },
     "metadata": {},
     "output_type": "display_data"
    }
   ],
   "source": [
    "str=int_to_binary_12bits(a)"
   ]
  },
  {
   "cell_type": "code",
   "execution_count": 92,
   "id": "460a0c3c",
   "metadata": {},
   "outputs": [
    {
     "data": {
      "text/plain": [
       "\"1\""
      ]
     },
     "metadata": {},
     "output_type": "display_data"
    }
   ],
   "source": [
    "string(str[4])"
   ]
  },
  {
   "cell_type": "code",
   "execution_count": 93,
   "id": "e7c208bf",
   "metadata": {},
   "outputs": [
    {
     "name": "stdout",
     "output_type": "stream",
     "text": [
      "Binary representation of 'Hello, World!': 01001000011001010110110001101100011011110010110000100000010101110110111101110010011011000110010000100001\n"
     ]
    }
   ],
   "source": [
    "# Function to convert string to binary\n",
    "function string_to_binary(input_string::AbstractString)\n",
    "    binary_string = join([string(UInt8(c), base=2, pad=8) for c in input_string])\n",
    "    return binary_string\n",
    "end\n",
    "\n",
    "# Example usage\n",
    "input_string = \"Hello, World!\"\n",
    "binary_result = string_to_binary(input_string)\n",
    "println(\"Binary representation of '$input_string': $binary_result\")\n"
   ]
  },
  {
   "cell_type": "code",
   "execution_count": 94,
   "id": "adb0fa34",
   "metadata": {},
   "outputs": [
    {
     "name": "stdout",
     "output_type": "stream",
     "text": [
      "[\"li x1 5\", \"li x2 5\", \"beq x1 x2 exit\", \"li x3 10\", \"exit\", \"li x3 20\"]\n"
     ]
    }
   ],
   "source": [
    "# Original list of strings\n",
    "original_strings = [\"li x1 5\", \"li x2 5\", \"beq x1 x2 exit\", \"li x3 10\", \"\", \"exit\", \"li x3 20\"]\n",
    "\n",
    "# Remove empty strings\n",
    "filtered_strings = filter(x -> !isempty(x), original_strings)\n",
    "\n",
    "# Print the result\n",
    "println(filtered_strings)\n"
   ]
  },
  {
   "cell_type": "code",
   "execution_count": 95,
   "id": "ef4af4a8",
   "metadata": {},
   "outputs": [
    {
     "data": {
      "text/plain": [
       "30"
      ]
     },
     "metadata": {},
     "output_type": "display_data"
    }
   ],
   "source": [
    "5 * 6"
   ]
  },
  {
   "cell_type": "code",
   "execution_count": 96,
   "id": "75ef7760",
   "metadata": {},
   "outputs": [
    {
     "data": {
      "text/plain": [
       "\".string \\\"Hello,World\\\"\""
      ]
     },
     "metadata": {},
     "output_type": "display_data"
    }
   ],
   "source": [
    "str = \".string \\\"Hello,World\\\"\""
   ]
  },
  {
   "cell_type": "code",
   "execution_count": 97,
   "id": "99356fdf",
   "metadata": {},
   "outputs": [
    {
     "data": {
      "text/plain": [
       "9"
      ]
     },
     "metadata": {},
     "output_type": "display_data"
    }
   ],
   "source": [
    "findfirst(isequal('\"'), str)"
   ]
  },
  {
   "cell_type": "code",
   "execution_count": 98,
   "id": "c93dbdc2",
   "metadata": {},
   "outputs": [
    {
     "data": {
      "text/plain": [
       "parse_data_section (generic function with 1 method)"
      ]
     },
     "metadata": {},
     "output_type": "display_data"
    }
   ],
   "source": [
    "function parse_data_section(data_section::AbstractString)\n",
    "    labels = []\n",
    "    chunks = []\n",
    "    # in_string = false\n",
    "    current_string = \"\"\n",
    "\n",
    "    # Split the data section by semicolon to separate labels\n",
    "    sections = split(data_section, '\\n')  # Change ';' to '\\n' to split by lines\n",
    "    for section in sections\n",
    "        section = strip(section)\n",
    "        if isempty(section) || startswith(section, '#')\n",
    "            continue\n",
    "        end\n",
    "        # Split each section by whitespaces\n",
    "        parts = split(section)\n",
    "        \n",
    "        # If there's a label, store it separately\n",
    "        label = parts[1]\n",
    "        if endswith(label, ':')\n",
    "            push!(labels, chop(label, tail=1))\n",
    "            parts = parts[2:end]\n",
    "            println(parts)\n",
    "        end\n",
    "        \n",
    "        # Process each part\n",
    "        for part in parts\n",
    "            if occursin(\".string\", part) \n",
    "                # # If encountering \".string\", start a new string\n",
    "                # current_string = part\n",
    "                # push!(chunks,\".string\")\n",
    "                # if occursin('\"', current_string)\n",
    "                #     current_string = chop(current_string, head=findfirst(isequal('\"'),current_string), tail=1)\n",
    "                #     println(current_string)\n",
    "                # end\n",
    "                # push!(chunks, current_string)\n",
    "                # println(current_string)\n",
    "                # in_string = true\n",
    "\n",
    "\n",
    "                # Extract string content between double quotes handling both space or no sppace between` .string` and the string content\n",
    "                string_content = match(r\"\\\"(.*)\\\"\", section).captures[1]\n",
    "\n",
    "                push!(chunks, \".string\")\n",
    "                push!(chunks, string_content)\n",
    "                \n",
    "            elseif part!=\".data\"\n",
    "                # For other cases, add to chunks directly\n",
    "                push!(chunks, part)\n",
    "            end\n",
    "        end\n",
    "    end\n",
    "\n",
    "    return labels, chunks\n",
    "end"
   ]
  },
  {
   "cell_type": "code",
   "execution_count": 103,
   "id": "e9fb12c2",
   "metadata": {},
   "outputs": [
    {
     "data": {
      "text/plain": [
       "\".data \\narr: .word 10,20,30\\nstr: .string\\\"Hello,World\\\"\\n\""
      ]
     },
     "metadata": {},
     "output_type": "display_data"
    }
   ],
   "source": [
    "code=\"\"\"\n",
    ".data \n",
    "arr: .word 10,20,30\n",
    "str: .string\"Hello,World\"\n",
    "\"\"\""
   ]
  },
  {
   "cell_type": "code",
   "execution_count": 104,
   "id": "01032450",
   "metadata": {},
   "outputs": [
    {
     "data": {
      "text/plain": [
       "(Any[\"arr\", \"str\"], Any[\".word\", \"10,20,30\", \".string\", \"Hello,World\"])"
      ]
     },
     "metadata": {},
     "output_type": "display_data"
    }
   ],
   "source": [
    "labels,chunks= parse_data_section(code)"
   ]
  },
  {
   "cell_type": "code",
   "execution_count": 105,
   "id": "57bea2e8",
   "metadata": {},
   "outputs": [
    {
     "name": "stdout",
     "output_type": "stream",
     "text": [
      "Any[\"arr\", \"str\"]\n",
      "Any[\".word\", \"10,20,30\", \".string\", \"Hello,World\"]\n"
     ]
    }
   ],
   "source": [
    "println(labels)\n",
    "println(chunks)"
   ]
  },
  {
   "cell_type": "code",
   "execution_count": 115,
   "id": "6d9fc178",
   "metadata": {},
   "outputs": [
    {
     "data": {
      "text/plain": [
       "parse_data_section (generic function with 1 method)"
      ]
     },
     "metadata": {},
     "output_type": "display_data"
    }
   ],
   "source": [
    "function parse_data_section(data_section::AbstractString)\n",
    "    labels = []\n",
    "    chunks = []\n",
    "\n",
    "    # Split the data section by semicolon to separate labels\n",
    "    sections = split(data_section, '\\n')  # Change ';' to '\\n' to split by lines\n",
    "    for section in sections\n",
    "        section = strip(section)\n",
    "        if isempty(section) || startswith(section, '#')\n",
    "            continue\n",
    "        end\n",
    "\n",
    "        \n",
    "        \n",
    "\n",
    "        # Split each section by whitespaces\n",
    "        parts = split(section)\n",
    "       \n",
    "\n",
    "        # If there's a label, store it separately\n",
    "        label = parts[1]\n",
    "        if endswith(label, ':')\n",
    "            push!(labels, chop(label, tail=1))\n",
    "            parts = parts[2:end]\n",
    "        end\n",
    "        # Match .string with or without space and extract string content\n",
    "        match_result = match(r\"\\.string\\s*(\\\"[^\\\"]*\\\")\", section)\n",
    "        if match_result !== nothing\n",
    "            string_content = match_result.captures[1]\n",
    "            push!(chunks, \".string\")\n",
    "            string_content = replace(string_content, r\"\\\"\" => \"\")\n",
    "            push!(chunks, string_content)\n",
    "            continue\n",
    "        end\n",
    "        \n",
    "        #Match .word with spaces or with commmas in between numbers for any number of spaces or commas and store the as different chunks even if there are spaces between the numbers\n",
    "        match_result = match(r\"\\.word\\s*((\\d+\\s*,?\\s*)+)\", section)\n",
    "        if match_result !== nothing\n",
    "            word_content = match_result.captures[1]\n",
    "            word_content = replace(word_content, r\",\" => \" \")\n",
    "            word_content = split(word_content)\n",
    "            push!(chunks, \".word\")\n",
    "            for word in word_content\n",
    "                push!(chunks, word)\n",
    "            end\n",
    "            continue\n",
    "        end\n",
    "\n",
    "    end\n",
    "    return labels, chunks\n",
    "end\n"
   ]
  },
  {
   "cell_type": "code",
   "execution_count": 122,
   "id": "c35ea37a",
   "metadata": {},
   "outputs": [
    {
     "data": {
      "text/plain": [
       "\".data \\narr: .word 10 20 30\\nstr: .string \\\"Hello,World\\\"\\n\""
      ]
     },
     "metadata": {},
     "output_type": "display_data"
    }
   ],
   "source": [
    "code=\"\"\"\n",
    ".data \n",
    "arr: .word 10 20 30\n",
    "str: .string \"Hello,World\"\n",
    "\"\"\""
   ]
  },
  {
   "cell_type": "code",
   "execution_count": 123,
   "id": "cebd8bc3",
   "metadata": {},
   "outputs": [
    {
     "data": {
      "text/plain": [
       "(Any[\"arr\", \"str\"], Any[\".word\", \"10\", \"20\", \"30\", \".string\", \"Hello,World\"])"
      ]
     },
     "metadata": {},
     "output_type": "display_data"
    }
   ],
   "source": [
    "labels,chunks= parse_data_section(code)"
   ]
  },
  {
   "cell_type": "code",
   "execution_count": 124,
   "id": "4fa0eb2a",
   "metadata": {},
   "outputs": [
    {
     "name": "stdout",
     "output_type": "stream",
     "text": [
      "Any[\"arr\", \"str\"]\n",
      "Any[\".word\", \"10\", \"20\", \"30\", \".string\", \"Hello,World\"]\n"
     ]
    }
   ],
   "source": [
    "println(labels)\n",
    "println(chunks)"
   ]
  },
  {
   "cell_type": "code",
   "execution_count": null,
   "id": "d8148fc2",
   "metadata": {},
   "outputs": [],
   "source": []
  }
 ],
 "metadata": {
  "kernelspec": {
   "display_name": "Julia 1.10.1",
   "language": "julia",
   "name": "julia-1.10"
  },
  "language_info": {
   "file_extension": ".jl",
   "mimetype": "application/julia",
   "name": "julia",
   "version": "1.10.1"
  }
 },
 "nbformat": 4,
 "nbformat_minor": 5
}
