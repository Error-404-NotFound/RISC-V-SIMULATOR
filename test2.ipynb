{
 "cells": [
  {
   "cell_type": "code",
   "execution_count": 1,
   "id": "d1839b1a-4f93-4ea0-875d-61a53753f5c9",
   "metadata": {
    "tags": []
   },
   "outputs": [
    {
     "data": {
      "text/plain": [
       "parse_and_store_memory (generic function with 1 method)"
      ]
     },
     "execution_count": 1,
     "metadata": {},
     "output_type": "execute_result"
    }
   ],
   "source": [
    "function parse_and_store_memory(assembly::Vector{String}, memory::Array{Int,2})\n",
    "    current_row = 1\n",
    "\n",
    "    for line in assembly\n",
    "        parts = split(line, ':')\n",
    "        if length(parts) == 2\n",
    "            variable_name = strip(parts[1])\n",
    "            data_values = strip(parts[2])\n",
    "\n",
    "            if occursin(\".word\", variable_name)\n",
    "                values = parse.(Int, split(data_values))\n",
    "                if current_row <= size(memory, 1)\n",
    "                    memory[current_row, 1:length(values)] .= values\n",
    "                    current_row += 1\n",
    "                else\n",
    "                    println(\"Error: Insufficient memory rows for .word directive.\")\n",
    "                end\n",
    "            elseif occursin(\".string\", variable_name)\n",
    "                # Extract string content between double quotes\n",
    "                string_content = match(r\"\\\"(.*)\\\"\", data_values).captures[1]\n",
    "                # Convert each character to its ASCII value and store in memory\n",
    "                values = [Int(c) for c in string_content]\n",
    "\n",
    "                if current_row <= size(memory, 1)\n",
    "                    memory[current_row, 1:length(values)] .= values\n",
    "                    current_row += 1\n",
    "                else\n",
    "                    println(\"Error: Insufficient memory rows for .string directive.\")\n",
    "                end\n",
    "            end\n",
    "        end\n",
    "    end\n",
    "end"
   ]
  },
  {
   "cell_type": "code",
   "execution_count": 2,
   "id": "da0334ff-a330-4484-b995-44f62c951b91",
   "metadata": {
    "tags": []
   },
   "outputs": [],
   "source": [
    "assembly_code = [\"array: .word 10 20 30\", \"str: .string \\\"Hello\\\"\", \"\"]\n",
    "memory_array = zeros(Int, 1024, 4)\n",
    "parse_and_store_memory(assembly_code, memory_array)"
   ]
  },
  {
   "cell_type": "code",
   "execution_count": 4,
   "id": "0095f76f-6516-4862-9db7-0500030265b3",
   "metadata": {
    "tags": []
   },
   "outputs": [],
   "source": [
    "# println(memory_array)"
   ]
  },
  {
   "cell_type": "code",
   "execution_count": 35,
   "id": "596e2ae2-ba7e-49ed-9695-7f8b5799c54b",
   "metadata": {
    "tags": []
   },
   "outputs": [
    {
     "data": {
      "text/plain": [
       "add_spaces (generic function with 1 method)"
      ]
     },
     "execution_count": 35,
     "metadata": {},
     "output_type": "execute_result"
    }
   ],
   "source": [
    "function remove_commas(input_string::AbstractString)::AbstractString\n",
    "    return replace(input_string, \",\" => \" \")\n",
    "end\n",
    "\n",
    "function remove_comments(input_string::AbstractString)::AbstractString\n",
    "    return replace(input_string, r\"#.*\" => \"\")\n",
    "end\n",
    "\n",
    "function remove_parentheses(input_string::AbstractString)::AbstractString\n",
    "    return replace(input_string, r\"[()]\" => \" \")\n",
    "end\n",
    "\n",
    "function add_spaces(input_string::AbstractString)::AbstractString\n",
    "    return replace(input_string, r\"(\\w)([x\\d])\" => s\"\\1 \\2\")\n",
    "end"
   ]
  },
  {
   "cell_type": "code",
   "execution_count": 36,
   "id": "9877e038-3aa9-4874-87cd-8cd9ad2c94cc",
   "metadata": {
    "tags": []
   },
   "outputs": [
    {
     "data": {
      "text/plain": [
       "sanitize (generic function with 1 method)"
      ]
     },
     "execution_count": 36,
     "metadata": {},
     "output_type": "execute_result"
    }
   ],
   "source": [
    "function sanitize(raw_line::AbstractString)::AbstractString\n",
    "    modified_line = replace(raw_line, r\"\\b\\d+\\b\" => x -> string(parse(Int, x)))\n",
    "    modified_line = remove_parentheses(modified_line)\n",
    "    modified_line = remove_comments(modified_line)\n",
    "    modified_line = remove_commas(modified_line)\n",
    "    modified_line = strip(modified_line)\n",
    "    return modified_line\n",
    "end"
   ]
  },
  {
   "cell_type": "code",
   "execution_count": 77,
   "id": "2537f48b-c34b-45c5-b893-2b4275fbcbbc",
   "metadata": {
    "tags": []
   },
   "outputs": [
    {
     "data": {
      "text/plain": [
       "extract_literals (generic function with 1 method)"
      ]
     },
     "execution_count": 77,
     "metadata": {},
     "output_type": "execute_result"
    }
   ],
   "source": []
  },
  {
   "cell_type": "code",
   "execution_count": 98,
   "id": "7bebcce9-31a2-4d79-a46b-6e17209c308b",
   "metadata": {
    "tags": []
   },
   "outputs": [
    {
     "data": {
      "text/plain": [
       "extract_literals (generic function with 1 method)"
      ]
     },
     "execution_count": 98,
     "metadata": {},
     "output_type": "execute_result"
    }
   ],
   "source": [
    "function extract_literals(assembly::Vector{String})\n",
    "    literals = []\n",
    "\n",
    "    for line in assembly\n",
    "        sanitized_line = sanitize(line)\n",
    "        parts = split(sanitized_line, ':')\n",
    "\n",
    "        if length(parts) == 2\n",
    "            variable_name = strip(parts[1])\n",
    "            data_values = strip(parts[2])\n",
    "            \n",
    "            if occursin(\".word\", line[1])  # Check if the line contains .word\n",
    "                # Extract values after .word\n",
    "                values = parse.(Int, split(data_values))\n",
    "                append!(literals, values)\n",
    "            elseif occursin(\".string\", variable_name)\n",
    "                # Extract string content between double quotes\n",
    "                string_content = match(r\"\\\"(.*)\\\"\", data_values)\n",
    "                if string_content !== nothing\n",
    "                    append!(literals, [Int(c) for c in string_content.captures[1]])\n",
    "                else\n",
    "                    println(\"Error: Incorrect .string format in line: $line\")\n",
    "                end\n",
    "            end\n",
    "        end\n",
    "    end\n",
    "\n",
    "    return literals\n",
    "end"
   ]
  },
  {
   "cell_type": "code",
   "execution_count": 99,
   "id": "4c004ecb-2ac5-40d4-a950-1577332d3d2c",
   "metadata": {
    "tags": []
   },
   "outputs": [
    {
     "ename": "LoadError",
     "evalue": "MethodError: no method matching occursin(::String, ::Char)\n\n\u001b[0mClosest candidates are:\n\u001b[0m  occursin(::Any)\n\u001b[0m\u001b[90m   @\u001b[39m \u001b[90mBase\u001b[39m \u001b[90mstrings/\u001b[39m\u001b[90m\u001b[4msearch.jl:724\u001b[24m\u001b[39m\n\u001b[0m  occursin(::Union{AbstractChar, AbstractString}, \u001b[91m::AbstractString\u001b[39m)\n\u001b[0m\u001b[90m   @\u001b[39m \u001b[90mBase\u001b[39m \u001b[90mstrings/\u001b[39m\u001b[90m\u001b[4msearch.jl:699\u001b[24m\u001b[39m\n",
     "output_type": "error",
     "traceback": [
      "MethodError: no method matching occursin(::String, ::Char)\n\n\u001b[0mClosest candidates are:\n\u001b[0m  occursin(::Any)\n\u001b[0m\u001b[90m   @\u001b[39m \u001b[90mBase\u001b[39m \u001b[90mstrings/\u001b[39m\u001b[90m\u001b[4msearch.jl:724\u001b[24m\u001b[39m\n\u001b[0m  occursin(::Union{AbstractChar, AbstractString}, \u001b[91m::AbstractString\u001b[39m)\n\u001b[0m\u001b[90m   @\u001b[39m \u001b[90mBase\u001b[39m \u001b[90mstrings/\u001b[39m\u001b[90m\u001b[4msearch.jl:699\u001b[24m\u001b[39m\n",
      "",
      "Stacktrace:",
      " [1] extract_literals(assembly::Vector{String})",
      "   @ Main ./In[98]:12",
      " [2] top-level scope",
      "   @ In[99]:3"
     ]
    }
   ],
   "source": [
    "# Example usage:\n",
    "assembly_code = [\"array: .word 10 20 30\", \"str: .string \\\"Hello\\\"\", \"\"]\n",
    "literals = extract_literals(assembly_code)"
   ]
  },
  {
   "cell_type": "code",
   "execution_count": 67,
   "id": "3422451a-c352-44c8-bddd-eabf5cf8f2c4",
   "metadata": {
    "tags": []
   },
   "outputs": [
    {
     "name": "stdout",
     "output_type": "stream",
     "text": [
      "Any[]\n"
     ]
    }
   ],
   "source": [
    "println(literals)"
   ]
  },
  {
   "cell_type": "code",
   "execution_count": 68,
   "id": "f3c442c5-33ba-47ed-9bf6-dc83fcf9fb38",
   "metadata": {
    "tags": []
   },
   "outputs": [
    {
     "data": {
      "text/plain": [
       "\"Hello\""
      ]
     },
     "execution_count": 68,
     "metadata": {},
     "output_type": "execute_result"
    }
   ],
   "source": [
    "str = \"Hello\""
   ]
  },
  {
   "cell_type": "code",
   "execution_count": 42,
   "id": "9d619649-ce14-482a-b36d-14d84e782648",
   "metadata": {
    "tags": []
   },
   "outputs": [
    {
     "name": "stdout",
     "output_type": "stream",
     "text": [
      "Hello\n"
     ]
    }
   ],
   "source": [
    "println(str)"
   ]
  },
  {
   "cell_type": "code",
   "execution_count": 103,
   "id": "c1476ae2-a5b7-45ae-b7b5-bce8a340c318",
   "metadata": {
    "tags": []
   },
   "outputs": [
    {
     "ename": "LoadError",
     "evalue": "LoadError: PCRE compilation error: quantifier does not follow a repeatable item at offset 0\nin expression starting at In[103]:11",
     "output_type": "error",
     "traceback": [
      "LoadError: PCRE compilation error: quantifier does not follow a repeatable item at offset 0\nin expression starting at In[103]:11",
      "",
      "Stacktrace:",
      " [1] error(s::String)",
      "   @ Base ./error.jl:35",
      " [2] compile(pattern::String, options::UInt32)",
      "   @ Base.PCRE ./pcre.jl:165",
      " [3] compile(regex::Regex)",
      "   @ Base ./regex.jl:80",
      " [4] Regex(pattern::String, compile_options::UInt32, match_options::UInt32)",
      "   @ Base ./regex.jl:40",
      " [5] Regex(pattern::String)",
      "   @ Base ./regex.jl:68",
      " [6] var\"@r_str\"(__source__::LineNumberNode, __module__::Module, pattern::Any, flags::Vararg{Any})",
      "   @ Base ./regex.jl:123"
     ]
    }
   ],
   "source": [
    "assembly_code = [\"array: .word 10 20 30\", \"str: .string \\\"Hello\\\"\", \"\"]\n",
    "\n",
    "function extract_literals(code)\n",
    "    literals = []\n",
    "    for line in code\n",
    "        # Match numeric literals\n",
    "        numeric_literals = matchall(r\"\\b\\d+\\b\", line)\n",
    "        append!(literals, parse.(Int, numeric_literals))\n",
    "\n",
    "        # Match string literals\n",
    "        string_literals = matchall(r\"*\", line)\n",
    "        append!(literals, string_literals)\n",
    "    end\n",
    "    return literals\n",
    "end\n",
    "\n",
    "literals = extract_literals(assembly_code)\n",
    "println(\"Literals: \", literals)\n"
   ]
  },
  {
   "cell_type": "code",
   "execution_count": null,
   "id": "f2e3ac25-9805-46b6-8e11-6ffdaeb2d91f",
   "metadata": {},
   "outputs": [],
   "source": []
  },
  {
   "cell_type": "code",
   "execution_count": null,
   "id": "919abb4a-0569-40e1-96a2-eb22d74609ef",
   "metadata": {},
   "outputs": [],
   "source": []
  }
 ],
 "metadata": {
  "kernelspec": {
   "display_name": "Julia 1.10.1",
   "language": "julia",
   "name": "julia-1.10"
  },
  "language_info": {
   "file_extension": ".jl",
   "mimetype": "application/julia",
   "name": "julia",
   "version": "1.10.1"
  }
 },
 "nbformat": 4,
 "nbformat_minor": 5
}
